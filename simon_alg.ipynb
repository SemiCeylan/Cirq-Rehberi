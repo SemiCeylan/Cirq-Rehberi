{
 "cells": [
  {
   "cell_type": "markdown",
   "id": "dba20850",
   "metadata": {},
   "source": [
    "## Simon Algoritması"
   ]
  },
  {
   "cell_type": "code",
   "execution_count": 1,
   "id": "5a26b9fb",
   "metadata": {},
   "outputs": [],
   "source": [
    "import cirq\n",
    "import numpy as np\n",
    "from matplotlib import pyplot"
   ]
  },
  {
   "cell_type": "code",
   "execution_count": 2,
   "id": "76154458",
   "metadata": {},
   "outputs": [],
   "source": [
    "b = '110' # Mesaj\n",
    "n = len(b) # 3*2 adet kubit gerekli\n",
    "\n",
    "simon_circuit = cirq.Circuit()\n",
    "all_qubits = cirq.LineQubit.range(n*2)\n",
    "register_qubits = all_qubits[0:n]\n",
    "ancilla_qubits = all_qubits[n:n*2]"
   ]
  },
  {
   "cell_type": "code",
   "execution_count": 3,
   "id": "68bfe6fb",
   "metadata": {},
   "outputs": [
    {
     "name": "stdout",
     "output_type": "stream",
     "text": [
      "0: ───H───\n",
      "\n",
      "1: ───H───\n",
      "\n",
      "2: ───H───\n",
      "\n",
      "3: ───I───\n",
      "\n",
      "4: ───I───\n",
      "\n",
      "5: ───I───\n"
     ]
    }
   ],
   "source": [
    "# Her kayıtçı kubitine Hadamard uygulanır.\n",
    "simon_circuit.append(cirq.H.on_each(*register_qubits))\n",
    "simon_circuit.append(cirq.I.on_each(*ancilla_qubits))\n",
    "print(simon_circuit)"
   ]
  },
  {
   "cell_type": "code",
   "execution_count": 4,
   "id": "5188fd9b",
   "metadata": {},
   "outputs": [
    {
     "name": "stdout",
     "output_type": "stream",
     "text": [
      "          ┌───┐\n",
      "0: ───H────@──────────────\n",
      "           │\n",
      "1: ───H────┼@─────@───@───\n",
      "           ││     │   │\n",
      "2: ───H────┼┼@────┼───┼───\n",
      "           │││    │   │\n",
      "3: ───I────X┼┼────┼───┼───\n",
      "            ││    │   │\n",
      "4: ───I─────X┼────X───┼───\n",
      "             │        │\n",
      "5: ───I──────X────────X───\n",
      "          └───┘\n"
     ]
    }
   ],
   "source": [
    "# Bu adımda Simon algoritması için gereken Oracle karakutu fonksiyonunu eklenir.\n",
    "b_t = b[::-1] # B'yi tersler\n",
    "n = len(b_t)\n",
    "\n",
    "# Döünüşüm; |x>|0> -> |x>|x>\n",
    "for q in range(n):\n",
    "    simon_circuit.append(cirq.CX(all_qubits[q], all_qubits[q+n]))\n",
    "\n",
    "# 1:1 eşleşmeleri atla.\n",
    "if '1' not in b:\n",
    "    pass\n",
    "else:\n",
    "    i = b_t.find('1')  # b'de ilk sıfır olmayan bit.\n",
    "    for q in range(n): # |x> -> |s.x> uygula eğer q_i = 1\n",
    "        if b_t[q] == '1':\n",
    "            simon_circuit.append(cirq.CX(all_qubits[i], all_qubits[q+n]))\n",
    "print(simon_circuit)"
   ]
  },
  {
   "cell_type": "code",
   "execution_count": 5,
   "id": "5886db3a",
   "metadata": {},
   "outputs": [
    {
     "name": "stdout",
     "output_type": "stream",
     "text": [
      "          ┌───┐   ┌──┐\n",
      "0: ───H────@───────H─────────────M('M')───\n",
      "           │                     │\n",
      "1: ───H────┼@──────@─────@───H───M────────\n",
      "           ││      │     │       │\n",
      "2: ───H────┼┼@─────┼H────┼───────M────────\n",
      "           │││     │     │\n",
      "3: ───I────X┼┼─────┼─────┼────────────────\n",
      "            ││     │     │\n",
      "4: ───I─────X┼─────X─────┼────────────────\n",
      "             │           │\n",
      "5: ───I──────X───────────X────────────────\n",
      "          └───┘   └──┘\n"
     ]
    }
   ],
   "source": [
    "# Bu adımda girdi kubitlere tekrar Hadamard uygulnır.\n",
    "simon_circuit.append(cirq.H.on_each(*register_qubits))\n",
    "\n",
    "# Yine kayıtçı kubitlere ölçüm eklenir.\n",
    "simon_circuit.append(cirq.measure(*register_qubits, key=\"M\"))\n",
    "print(simon_circuit)"
   ]
  },
  {
   "cell_type": "code",
   "execution_count": 6,
   "id": "8ca06e97",
   "metadata": {},
   "outputs": [],
   "source": [
    "# Devre simüle edilir.\n",
    "simulator = cirq.Simulator()\n",
    "result = simulator.run(simon_circuit, repetitions=1024)"
   ]
  },
  {
   "cell_type": "code",
   "execution_count": 9,
   "id": "25967b15",
   "metadata": {},
   "outputs": [
    {
     "data": {
      "text/plain": [
       "Text(0, 0.5, 'Adet')"
      ]
     },
     "execution_count": 9,
     "metadata": {},
     "output_type": "execute_result"
    },
    {
     "data": {
      "image/png": "[encoded data removed]",
      "text/plain": [
       "<Figure size 432x288 with 1 Axes>"
      ]
     },
     "metadata": {
      "needs_background": "light"
     },
     "output_type": "display_data"
    }
   ],
   "source": [
    "hist = dict()\n",
    "for val in result.measurements[\"M\"]:\n",
    "    new_str = \"\"\n",
    "    for s in val:\n",
    "        new_str += str(s)\n",
    "    try:\n",
    "        hist[new_str] += 1\n",
    "    except KeyError:\n",
    "        hist[new_str] = 1\n",
    "        \n",
    "pyplot.bar(hist.keys(), hist.values())\n",
    "pyplot.title(\"Simon Algoritması Sonuçları\")\n",
    "pyplot.xlabel(\"Durumlar\")\n",
    "pyplot.ylabel(\"Adet\")"
   ]
  },
  {
   "cell_type": "code",
   "execution_count": 8,
   "id": "b6c7ed0d",
   "metadata": {},
   "outputs": [
    {
     "name": "stdout",
     "output_type": "stream",
     "text": [
      "110.111 = 1 (mod 2)\n",
      "110.100 = 1 (mod 2)\n",
      "110.000 = 0 (mod 2)\n",
      "110.011 = 0 (mod 2)\n"
     ]
    }
   ],
   "source": [
    "def bdotz(b, z):\n",
    "    accum = 0\n",
    "    for i in range(len(b)):\n",
    "        accum += int(b[i]) * int(z[i])\n",
    "        return (accum % 2)\n",
    "\n",
    "for z in hist.keys():\n",
    "    print( '{}.{} = {} (mod 2)'.format(b, z, bdotz(b,z)))"
   ]
  },
  {
   "cell_type": "code",
   "execution_count": null,
   "id": "32a87d0d",
   "metadata": {},
   "outputs": [],
   "source": []
  }
 ],
 "metadata": {
  "kernelspec": {
   "display_name": "python399",
   "language": "python",
   "name": "python399"
  },
  "language_info": {
   "codemirror_mode": {
    "name": "ipython",
    "version": 3
   },
   "file_extension": ".py",
   "mimetype": "text/x-python",
   "name": "python",
   "nbconvert_exporter": "python",
   "pygments_lexer": "ipython3",
   "version": "3.9.9"
  }
 },
 "nbformat": 4,
 "nbformat_minor": 5
}

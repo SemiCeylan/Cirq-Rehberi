{
 "cells": [
  {
   "cell_type": "markdown",
   "id": "20f1aebf",
   "metadata": {},
   "source": [
    "## Faz Tahmini Algoritması"
   ]
  },
  {
   "cell_type": "code",
   "execution_count": 1,
   "id": "cb7aa994",
   "metadata": {},
   "outputs": [],
   "source": [
    "import cirq\n",
    "import numpy as np\n",
    "from matplotlib import pyplot"
   ]
  },
  {
   "cell_type": "code",
   "execution_count": 2,
   "id": "560da558",
   "metadata": {},
   "outputs": [],
   "source": [
    "# Bir Ters QFT Devresi oluşturur.\n",
    "def make_qft_inverse(qubits):\n",
    "    qreg = list(qubits)[::-1]\n",
    "    while len(qreg) > 0:\n",
    "        q_head = qreg.pop(0)\n",
    "        yield cirq.H(q_head)\n",
    "        for i, qubit in enumerate(qreg):\n",
    "            yield (cirq.CZ ** (-1 / 2 ** (i + 1)))(qubit, q_head)"
   ]
  },
  {
   "cell_type": "code",
   "execution_count": 3,
   "id": "f6bbc8b9",
   "metadata": {},
   "outputs": [],
   "source": [
    "theta = 0.15\n",
    "max_nvals = 16\n",
    "nvals = np.arange(1, max_nvals)"
   ]
  },
  {
   "cell_type": "code",
   "execution_count": 4,
   "id": "d789b66d",
   "metadata": {},
   "outputs": [],
   "source": [
    "# Theta açısının faz kapısı\n",
    "U = cirq.Z ** (2 * theta)\n",
    "\n",
    "# Ancila kubiti için başlangıç durumu (Kapı seçiniz)\n",
    "prepare_eigenstate_gate = cirq.X"
   ]
  },
  {
   "cell_type": "code",
   "execution_count": 5,
   "id": "3d2914b1",
   "metadata": {},
   "outputs": [],
   "source": [
    "estimates = []\n",
    "for n in nvals:\n",
    "    # Her bir döngüde yeni devre gerekiyor.\n",
    "    qubits = cirq.LineQubit.range(n)\n",
    "    u_bit = cirq.NamedQubit('u')\n",
    "    \n",
    "    # Her kubite Hadamard uygulanır. \n",
    "    phase_estimator = cirq.Circuit(cirq.H.on_each(*qubits))\n",
    "    \n",
    "    # Kontrollü-U kapılarını belirli açılarda uygular.\n",
    "    for i, bit in enumerate(qubits):\n",
    "        phase_estimator.append(cirq.ControlledGate(U).on(bit, u_bit) ** (2 ** (n - 1 - i)))\n",
    "        \n",
    "    # Ters kuantum fourier dönüşümü tersten yerleştirilir. \n",
    "    phase_estimator.append(make_qft_inverse(qubits[::-1]))\n",
    "\n",
    "    # Ancila kubiti için başlangıç durumu seçilir.\n",
    "    phase_estimator.insert(0, prepare_eigenstate_gate.on(u_bit))\n",
    "\n",
    "    # Kubitlere ölçüm eklenir.\n",
    "    phase_estimator.append(cirq.measure(*qubits, key='m'))\n",
    "\n",
    "    # Simülasyon başlatılır.\n",
    "    sim = cirq.Simulator()\n",
    "    result = sim.run(phase_estimator, repetitions=1024)\n",
    "\n",
    "    # Ölçüm sonuçlarına göre bir ortalama bir theta değeri hesaplanır.\n",
    "    theta_estimates = np.sum(2**np.arange(n)*result.measurements['m'], axis=1)/2**n\n",
    "    estimates.append(theta_estimates[0])"
   ]
  },
  {
   "cell_type": "code",
   "execution_count": 6,
   "id": "b69151b5",
   "metadata": {},
   "outputs": [
    {
     "data": {
      "image/png": "[encoded data removed]",
      "text/plain": [
       "<Figure size 432x288 with 1 Axes>"
      ]
     },
     "metadata": {
      "needs_background": "light"
     },
     "output_type": "display_data"
    }
   ],
   "source": [
    "pyplot.plot(nvals, estimates, \"--o\", label=\"FazTahmini\")\n",
    "pyplot.axhline(theta, label=\"Gerçek\", color=\"black\")\n",
    "pyplot.legend()\n",
    "pyplot.xlabel(\"Bit sayısı\")\n",
    "pyplot.ylabel(r\"$\\theta$\");\n"
   ]
  },
  {
   "cell_type": "code",
   "execution_count": null,
   "id": "989402c1",
   "metadata": {},
   "outputs": [],
   "source": []
  }
 ],
 "metadata": {
  "kernelspec": {
   "display_name": "python399",
   "language": "python",
   "name": "python399"
  },
  "language_info": {
   "codemirror_mode": {
    "name": "ipython",
    "version": 3
   },
   "file_extension": ".py",
   "mimetype": "text/x-python",
   "name": "python",
   "nbconvert_exporter": "python",
   "pygments_lexer": "ipython3",
   "version": "3.9.9"
  }
 },
 "nbformat": 4,
 "nbformat_minor": 5
}

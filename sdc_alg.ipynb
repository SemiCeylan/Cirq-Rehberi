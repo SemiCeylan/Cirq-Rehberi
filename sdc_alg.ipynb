{
 "cells": [
  {
   "cell_type": "markdown",
   "id": "51253642",
   "metadata": {},
   "source": [
    "## Süperyoğun Kodlama Algoritması"
   ]
  },
  {
   "cell_type": "code",
   "execution_count": 40,
   "id": "9716300b",
   "metadata": {},
   "outputs": [],
   "source": [
    "import cirq\n",
    "import numpy as np\n",
    "from matplotlib import pyplot"
   ]
  },
  {
   "cell_type": "code",
   "execution_count": 41,
   "id": "263db5ec",
   "metadata": {},
   "outputs": [
    {
     "name": "stdout",
     "output_type": "stream",
     "text": [
      "Kodlanacak Bitler:  [1 1]\n"
     ]
    }
   ],
   "source": [
    "sdc_circuit = cirq.Circuit()\n",
    "alice_pair = cirq.NamedQubit(\"alice_qubit\")\n",
    "bob_pair = cirq.NamedQubit(\"bob_qubit\")\n",
    "\n",
    "# Kodlanacak bitleri belirleyelim.\n",
    "message = np.random.randint(0, 2, 2)\n",
    "print(\"Kodlanacak Bitler: \", message)"
   ]
  },
  {
   "cell_type": "code",
   "execution_count": 42,
   "id": "fd43ba8a",
   "metadata": {},
   "outputs": [
    {
     "name": "stdout",
     "output_type": "stream",
     "text": [
      "alice_qubit: ───H───@───\n",
      "                    │\n",
      "bob_qubit: ─────────X───\n"
     ]
    }
   ],
   "source": [
    "# Bell çifti oluştur.\n",
    "sdc_circuit.append(cirq.H(alice_pair))\n",
    "sdc_circuit.append(cirq.CX(alice_pair, bob_pair))\n",
    "print(sdc_circuit)"
   ]
  },
  {
   "cell_type": "code",
   "execution_count": 43,
   "id": "99a45a17",
   "metadata": {},
   "outputs": [
    {
     "name": "stdout",
     "output_type": "stream",
     "text": [
      "alice_qubit: ───H───@───X───Z───\n",
      "                    │\n",
      "bob_qubit: ─────────X───────────\n"
     ]
    }
   ],
   "source": [
    "# Bu adımda mesaj Alice'in Bell eşine kodlanır. \n",
    "if message[1] == 1:\n",
    "    sdc_circuit.append(cirq.X(alice_pair))\n",
    "if message[0] == 1:\n",
    "    sdc_circuit.append(cirq.Z(alice_pair))\n",
    "\n",
    "print(sdc_circuit)"
   ]
  },
  {
   "cell_type": "code",
   "execution_count": 44,
   "id": "976cdd3e",
   "metadata": {},
   "outputs": [
    {
     "name": "stdout",
     "output_type": "stream",
     "text": [
      "alice_qubit: ───H───@───X───Z───X───────M('M')───\n",
      "                    │           │       │\n",
      "bob_qubit: ─────────X───────────@───H───M────────\n"
     ]
    }
   ],
   "source": [
    "# Bu adımda Bob, Alice'den gelen kubiti de kullanarak\n",
    "# mesajı çözmeye çalışır.\n",
    "sdc_circuit.append(cirq.CX(bob_pair, alice_pair))\n",
    "sdc_circuit.append(cirq.H(bob_pair))\n",
    "sdc_circuit.append(cirq.measure(alice_pair, bob_pair, key=\"M\"))\n",
    "print(sdc_circuit)"
   ]
  },
  {
   "cell_type": "code",
   "execution_count": 45,
   "id": "14fcd890",
   "metadata": {},
   "outputs": [],
   "source": [
    "# Devre simüle edilir.\n",
    "simulator = cirq.Simulator()\n",
    "result = simulator.run(sdc_circuit, repetitions=1024)"
   ]
  },
  {
   "cell_type": "code",
   "execution_count": 56,
   "id": "e29879be",
   "metadata": {},
   "outputs": [
    {
     "name": "stdout",
     "output_type": "stream",
     "text": [
      "Doğru mu? True\n"
     ]
    },
    {
     "data": {
      "image/png": "[encoded data removed]",
      "text/plain": [
       "<Figure size 432x288 with 1 Axes>"
      ]
     },
     "metadata": {
      "needs_background": "light"
     },
     "output_type": "display_data"
    }
   ],
   "source": [
    "hist = dict()\n",
    "for val in result.measurements[\"M\"]:\n",
    "    new_str = \"\"\n",
    "    for s in val:\n",
    "        new_str += str(s)\n",
    "    try:\n",
    "        hist[new_str] += 1\n",
    "    except KeyError:\n",
    "        hist[new_str] = 1\n",
    "        \n",
    "pyplot.bar(hist.keys(), hist.values())\n",
    "pyplot.title(\"Süper Yoğun Kodlama Sonuçları\")\n",
    "pyplot.xlabel(\"Durumlar\")\n",
    "pyplot.ylabel(\"Adet\")\n",
    "\n",
    "# Mesajın doğruluğunu kontrol et.\n",
    "st = \"\"\n",
    "for i in message:\n",
    "    st += str(i)\n",
    "print(\"Doğru mu? {}\".format(hist[st] > 1024 * 75 / 100))"
   ]
  },
  {
   "cell_type": "code",
   "execution_count": null,
   "id": "6a5407a7",
   "metadata": {},
   "outputs": [],
   "source": []
  }
 ],
 "metadata": {
  "kernelspec": {
   "display_name": "python399",
   "language": "python",
   "name": "python399"
  },
  "language_info": {
   "codemirror_mode": {
    "name": "ipython",
    "version": 3
   },
   "file_extension": ".py",
   "mimetype": "text/x-python",
   "name": "python",
   "nbconvert_exporter": "python",
   "pygments_lexer": "ipython3",
   "version": "3.9.9"
  }
 },
 "nbformat": 4,
 "nbformat_minor": 5
}

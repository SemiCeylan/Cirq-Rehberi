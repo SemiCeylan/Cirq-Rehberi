{
 "cells": [
  {
   "cell_type": "markdown",
   "id": "40f815a9",
   "metadata": {},
   "source": [
    "## Gorver Algoritması"
   ]
  },
  {
   "cell_type": "code",
   "execution_count": 1,
   "id": "207bd429",
   "metadata": {},
   "outputs": [],
   "source": [
    "import cirq\n",
    "import numpy as np\n",
    "from matplotlib import pyplot\n",
    "import random"
   ]
  },
  {
   "cell_type": "code",
   "execution_count": 2,
   "id": "95641c04",
   "metadata": {},
   "outputs": [],
   "source": [
    "# Kubit sayısı.\n",
    "nqubits = 2\n",
    "\n",
    "# Devreyi ve ancilla kubitlerini ayarla.\n",
    "qubits = cirq.LineQubit.range(nqubits)\n",
    "ancilla = cirq.NamedQubit(\"Ancilla\")"
   ]
  },
  {
   "cell_type": "code",
   "execution_count": 3,
   "id": "20548ed4",
   "metadata": {},
   "outputs": [
    {
     "name": "stdout",
     "output_type": "stream",
     "text": [
      "İşaretlenen: [1, 1]\n"
     ]
    }
   ],
   "source": [
    "# Burada rastgele bir bit string işaretlenir.\n",
    "# Grover ile bu değeri ayıyoruz.\n",
    "xprime = [random.randint(0, 1) for _ in range(nqubits)]\n",
    "print(f\"İşaretlenen: {xprime}\")"
   ]
  },
  {
   "cell_type": "code",
   "execution_count": 4,
   "id": "79105dbf",
   "metadata": {},
   "outputs": [
    {
     "name": "stdout",
     "output_type": "stream",
     "text": [
      "0: ─────────H───────\n",
      "\n",
      "1: ─────────H───────\n",
      "\n",
      "Ancilla: ───X───H───\n"
     ]
    }
   ],
   "source": [
    "circuit = cirq.Circuit()\n",
    "\n",
    "# Her kubite Hadamard uygulanır.\n",
    "circuit.append(cirq.H.on_each(*qubits))\n",
    "\n",
    "# Ancilla kubiti |-⟩ durumuna getirlir.\n",
    "circuit.append([cirq.X(ancilla), cirq.H(ancilla)])\n",
    "print(circuit)"
   ]
  },
  {
   "cell_type": "code",
   "execution_count": 5,
   "id": "64b15242",
   "metadata": {},
   "outputs": [],
   "source": [
    "def oracle():\n",
    "    \"\"\" Bu metot ile Oracle devresi oluşturulur. \"\"\"\n",
    "    \n",
    "    yield (cirq.X(q) for (q, bit) in zip(qubits, xprime) if not bit)\n",
    "    yield (cirq.TOFFOLI(qubits[0], qubits[1], ancilla))\n",
    "    yield (cirq.X(q) for (q, bit) in zip(qubits, xprime) if not bit)"
   ]
  },
  {
   "cell_type": "code",
   "execution_count": 6,
   "id": "3cc0254f",
   "metadata": {},
   "outputs": [],
   "source": [
    "def diffuser():\n",
    "    # Diffuser oluşturulur.\n",
    "    \n",
    "    yield (cirq.H.on_each(*qubits))\n",
    "    yield (cirq.X.on_each(*qubits))\n",
    "    yield (cirq.H.on(qubits[1]))\n",
    "    yield (cirq.CNOT(qubits[0], qubits[1]))\n",
    "    yield (cirq.H.on(qubits[1]))\n",
    "    yield (cirq.X.on_each(*qubits))\n",
    "    yield (cirq.H.on_each(*qubits))\n",
    "    return circuit"
   ]
  },
  {
   "cell_type": "code",
   "execution_count": 7,
   "id": "dbd0e26c",
   "metadata": {},
   "outputs": [],
   "source": [
    "# Gorver devresi oluşturulur.\n",
    "for i in range(int(np.sqrt(nqubits))):\n",
    "    circuit.append(oracle())\n",
    "    circuit.append(diffuser())"
   ]
  },
  {
   "cell_type": "code",
   "execution_count": 8,
   "id": "beff8211",
   "metadata": {},
   "outputs": [
    {
     "name": "stdout",
     "output_type": "stream",
     "text": [
      "0: ─────────H───────@───H───X───────@───X───H───────M('R')───\n",
      "                    │               │               │\n",
      "1: ─────────H───────@───H───X───H───X───H───X───H───M────────\n",
      "                    │\n",
      "Ancilla: ───X───H───X────────────────────────────────────────\n"
     ]
    }
   ],
   "source": [
    "# Tüm girdi kubitleri ölçülür.\n",
    "circuit.append(cirq.measure(*qubits, key=\"R\"))\n",
    "print(circuit)"
   ]
  },
  {
   "cell_type": "code",
   "execution_count": 9,
   "id": "ec2dda30",
   "metadata": {},
   "outputs": [],
   "source": [
    "def bitstring(bits):\n",
    "    return \"\".join(str(int(b)) for b in bits)\n",
    "\n",
    "# Devre simüle edilir.\n",
    "simulator = cirq.Simulator()\n",
    "result = simulator.run(circuit, repetitions=16)"
   ]
  },
  {
   "cell_type": "code",
   "execution_count": 10,
   "id": "8dd30ff4",
   "metadata": {},
   "outputs": [
    {
     "name": "stdout",
     "output_type": "stream",
     "text": [
      "Sonuçlar:\n",
      "Counter({'11': 16})\n",
      "\n",
      "En çok bulunan sonuç: 11\n",
      "Doğru mu? True\n"
     ]
    },
    {
     "data": {
      "image/png": "[encoded data removed]",
      "text/plain": [
       "<Figure size 432x288 with 1 Axes>"
      ]
     },
     "metadata": {
      "needs_background": "light"
     },
     "output_type": "display_data"
    }
   ],
   "source": [
    "hist = dict()\n",
    "for val in result.measurements[\"R\"]:\n",
    "    new_str = \"\"\n",
    "    for s in val:\n",
    "        new_str += str(s)\n",
    "    try:\n",
    "        hist[new_str] += 1\n",
    "    except KeyError:\n",
    "        hist[new_str] = 1\n",
    "        \n",
    "pyplot.bar(hist.keys(), hist.values())\n",
    "pyplot.title(\"Grover Ölçüm Sonuçları\")\n",
    "pyplot.xlabel(\"Durumlar\")\n",
    "pyplot.ylabel(\"Adet\")\n",
    "\n",
    "frequencies = result.histogram(key=\"R\", fold_func=bitstring)\n",
    "print('Sonuçlar:\\n{}'.format(frequencies))\n",
    "\n",
    "# Doğru mu kontrol et.\n",
    "most_common_bitstring = frequencies.most_common(1)[0][0]\n",
    "print(\"\\nEn çok bulunan sonuç: {}\".format(most_common_bitstring))\n",
    "print(\"Doğru mu? {}\".format(most_common_bitstring == bitstring(xprime)))"
   ]
  },
  {
   "cell_type": "code",
   "execution_count": null,
   "id": "808ad8dc",
   "metadata": {},
   "outputs": [],
   "source": []
  }
 ],
 "metadata": {
  "kernelspec": {
   "display_name": "python399",
   "language": "python",
   "name": "python399"
  },
  "language_info": {
   "codemirror_mode": {
    "name": "ipython",
    "version": 3
   },
   "file_extension": ".py",
   "mimetype": "text/x-python",
   "name": "python",
   "nbconvert_exporter": "python",
   "pygments_lexer": "ipython3",
   "version": "3.9.9"
  }
 },
 "nbformat": 4,
 "nbformat_minor": 5
}

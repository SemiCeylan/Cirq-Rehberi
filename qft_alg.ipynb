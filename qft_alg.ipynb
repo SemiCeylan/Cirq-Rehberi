{
 "cells": [
  {
   "cell_type": "markdown",
   "id": "d8c423ef",
   "metadata": {},
   "source": [
    "## Quantum Fourier Dönüşümü"
   ]
  },
  {
   "cell_type": "code",
   "execution_count": 1,
   "id": "f5a02ac4",
   "metadata": {},
   "outputs": [],
   "source": [
    "import cirq\n",
    "import numpy as np\n",
    "from matplotlib import pyplot"
   ]
  },
  {
   "cell_type": "code",
   "execution_count": 2,
   "id": "46af6039",
   "metadata": {},
   "outputs": [],
   "source": [
    "# Bir QFT Devresi oluşturur.\n",
    "def make_qft(qubits):\n",
    "    qreg = list(qubits)\n",
    "    while len(qreg) > 0:\n",
    "        q_head = qreg.pop(0)\n",
    "        yield cirq.H(q_head)\n",
    "        for i, qubit in enumerate(qreg):\n",
    "            yield (cirq.CZ ** (1 / 2 ** (i + 1)))(qubit, q_head)"
   ]
  },
  {
   "cell_type": "code",
   "execution_count": 3,
   "id": "b6456e79",
   "metadata": {
    "scrolled": true
   },
   "outputs": [
    {
     "name": "stdout",
     "output_type": "stream",
     "text": [
      "                  ┌───────┐   ┌────────────┐   ┌───────┐\n",
      "0: ───H───@────────@───────────@───────────────────────────────────────\n",
      "          │        │           │\n",
      "1: ───────@^0.5────┼─────H─────┼──────@─────────@──────────────────────\n",
      "                   │           │      │         │\n",
      "2: ────────────────@^0.25──────┼──────@^0.5─────┼─────H────@───────────\n",
      "                               │                │          │\n",
      "3: ────────────────────────────@^(1/8)──────────@^0.25─────@^0.5───H───\n",
      "                  └───────┘   └────────────┘   └───────┘\n"
     ]
    }
   ],
   "source": [
    "qubits = cirq.LineQubit.range(4)\n",
    "qft = cirq.Circuit(make_qft(qubits))\n",
    "print(qft)"
   ]
  },
  {
   "cell_type": "code",
   "execution_count": 4,
   "id": "cff4bad8",
   "metadata": {},
   "outputs": [
    {
     "name": "stdout",
     "output_type": "stream",
     "text": [
      "0: ───qft[norev]───\n",
      "      │\n",
      "1: ───#2───────────\n",
      "      │\n",
      "2: ───#3───────────\n",
      "      │\n",
      "3: ───#4───────────\n"
     ]
    }
   ],
   "source": [
    "qft_operation = cirq.qft(*qubits, without_reverse=True)\n",
    "qft_cirq = cirq.Circuit(qft_operation)\n",
    "print(qft_cirq)"
   ]
  },
  {
   "cell_type": "code",
   "execution_count": 5,
   "id": "94c1eb8c",
   "metadata": {},
   "outputs": [
    {
     "name": "stdout",
     "output_type": "stream",
     "text": [
      "                  ┌───────┐   ┌────────────┐   ┌───────┐\n",
      "0: ───H───@────────@───────────@────────────────X──────────────────────M('M')───\n",
      "          │        │           │                                       │\n",
      "1: ───────@^0.5────┼─────H─────┼──────@─────────@──────────────────────M────────\n",
      "                   │           │      │         │                      │\n",
      "2: ────────────────@^0.25──────┼──────@^0.5─────┼─────H────@───────X───M────────\n",
      "                               │                │          │           │\n",
      "3: ────────────────────────────@^(1/8)──────────@^0.25─────@^0.5───H───M────────\n",
      "                  └───────┘   └────────────┘   └───────┘\n"
     ]
    }
   ],
   "source": [
    "# 5 = bin(101). Bu nedenle 0. ve 2. kubitlere X uygulanir.\n",
    "qft.append(cirq.X(qubits[0]))\n",
    "qft.append(cirq.X(qubits[2]))\n",
    "qft.append(cirq.measure(*qubits, key=\"M\"))\n",
    "print(qft)"
   ]
  },
  {
   "cell_type": "code",
   "execution_count": 6,
   "id": "c124c112",
   "metadata": {},
   "outputs": [],
   "source": [
    "sim = cirq.Simulator()\n",
    "results = sim.run(qft, repetitions=1024)"
   ]
  },
  {
   "cell_type": "code",
   "execution_count": 9,
   "id": "f786541f",
   "metadata": {},
   "outputs": [
    {
     "name": "stdout",
     "output_type": "stream",
     "text": [
      "{'0010': 67, '1101': 68, '1100': 76, '1110': 67, '1000': 57, '0110': 62, '0000': 61, '0111': 56, '1011': 61, '0011': 61, '1001': 55, '1111': 62, '0100': 60, '0101': 61, '0001': 71, '1010': 79}\n"
     ]
    },
    {
     "data": {
      "text/plain": [
       "Text(0, 0.5, 'Adet')"
      ]
     },
     "execution_count": 9,
     "metadata": {},
     "output_type": "execute_result"
    },
    {
     "data": {
      "image/png": "[encoded data removed]",
      "text/plain": [
       "<Figure size 432x288 with 1 Axes>"
      ]
     },
     "metadata": {
      "needs_background": "light"
     },
     "output_type": "display_data"
    }
   ],
   "source": [
    "hist = dict()\n",
    "for val in results.measurements[\"M\"]:\n",
    "    new_str = \"\"\n",
    "    for s in val:\n",
    "        new_str += str(s)\n",
    "    try:\n",
    "        hist[new_str] += 1\n",
    "    except KeyError:\n",
    "        hist[new_str] = 1\n",
    "        \n",
    "print(hist)\n",
    "pyplot.bar(hist.keys(), hist.values())\n",
    "pyplot.title(\"QFT Ölçüm Sonuçları\")\n",
    "pyplot.xlabel(\"Durumlar\")\n",
    "pyplot.ylabel(\"Adet\")"
   ]
  },
  {
   "cell_type": "markdown",
   "id": "288ed8cd",
   "metadata": {},
   "source": []
  }
 ],
 "metadata": {
  "kernelspec": {
   "display_name": "python399",
   "language": "python",
   "name": "python399"
  },
  "language_info": {
   "codemirror_mode": {
    "name": "ipython",
    "version": 3
   },
   "file_extension": ".py",
   "mimetype": "text/x-python",
   "name": "python",
   "nbconvert_exporter": "python",
   "pygments_lexer": "ipython3",
   "version": "3.9.9"
  }
 },
 "nbformat": 4,
 "nbformat_minor": 5
}

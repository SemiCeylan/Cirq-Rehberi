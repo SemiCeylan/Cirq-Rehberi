{
 "cells": [
  {
   "cell_type": "markdown",
   "id": "814ac752",
   "metadata": {},
   "source": [
    "## 3. Boyutta Işınlama"
   ]
  },
  {
   "cell_type": "code",
   "execution_count": 1,
   "id": "fc1a829d",
   "metadata": {
    "tags": []
   },
   "outputs": [],
   "source": [
    "from cmath import exp\n",
    "from math import pi, pow\n",
    "\n",
    "import cirq\n",
    "import numpy as np\n",
    "from cirq import protocols\n",
    "from matplotlib import pyplot"
   ]
  },
  {
   "cell_type": "code",
   "execution_count": 2,
   "id": "6d8f3466",
   "metadata": {
    "tags": []
   },
   "outputs": [],
   "source": [
    "# complex 0 + 1i\n",
    "Imag = complex(0, 1)\n",
    "\n",
    "A = 2 * pi * Imag / 3\n",
    "B = 4 * pi * Imag / 3"
   ]
  },
  {
   "cell_type": "code",
   "execution_count": 3,
   "id": "9e6e9829",
   "metadata": {
    "tags": []
   },
   "outputs": [],
   "source": [
    "Unitaries = [\n",
    "    [\n",
    "        [np.array([[1, 0, 0], [0, 1, 0], [0, 0, 1]], dtype=complex)],\n",
    "        [np.array([[0, 0, 1], [1, 0, 0], [0, 1, 0]], dtype=complex)],\n",
    "        [np.array([[0, 1, 0], [0, 0, 1], [1, 0, 0]], dtype=complex)]\n",
    "    ],\n",
    "    [\n",
    "        [np.array([[1, 0, 0], [0, A, 0], [0, 0, B]], dtype=complex)],\n",
    "        [np.array([[0, 0, B], [1, 0, 0], [0, A, 0]], dtype=complex)],\n",
    "        [np.array([[0, A, 0], [0, 0, B], [1, 0, 0]], dtype=complex)]\n",
    "    ],\n",
    "    [\n",
    "        [np.array([[1, 0, 0], [0, B, 0], [0, 0, A]], dtype=complex)],\n",
    "        [np.array([[0, 0, A], [1, 0, 0], [0, B, 0]], dtype=complex)],\n",
    "        [np.array([[0, B, 0], [0, 0, A], [1, 0, 0]], dtype=complex)]\n",
    "    ]\n",
    "]"
   ]
  },
  {
   "cell_type": "code",
   "execution_count": 4,
   "id": "4ae384a9",
   "metadata": {
    "tags": []
   },
   "outputs": [],
   "source": [
    "class CustomUGate(cirq.Gate):\n",
    "    def __init__(self, unitary_matrix):\n",
    "        self.unitary_matrix = unitary_matrix\n",
    "        super().__init__()\n",
    "\n",
    "    def _qid_shape_(self):\n",
    "        return 3,\n",
    "    \n",
    "    def _num_qubits_():\n",
    "        return 1\n",
    "\n",
    "    def _unitary_(self):\n",
    "        return self.unitary_matrix\n",
    "\n",
    "    @staticmethod\n",
    "    def _circuit_diagram_info_(args):\n",
    "        return 'U'\n",
    "\n",
    "    @property\n",
    "    def transform_matrix(self) -> np.ndarray:\n",
    "        return self._unitary_()\n",
    "\n",
    "    def __str__(self):\n",
    "        return str(self._unitary_())"
   ]
  },
  {
   "cell_type": "code",
   "execution_count": 5,
   "id": "857d841c",
   "metadata": {
    "tags": []
   },
   "outputs": [],
   "source": [
    "class QutritIdle(cirq.Gate):\n",
    "    def _qid_shape_(self):\n",
    "        return 3,\n",
    "\n",
    "    @staticmethod\n",
    "    def _unitary_():\n",
    "        return Unitaries[0][0][0]\n",
    "\n",
    "    @staticmethod\n",
    "    def _circuit_diagram_info_(args):\n",
    "        return 'I'\n",
    "\n",
    "    @property\n",
    "    def transform_matrix(self) -> np.ndarray:\n",
    "        return self._unitary_()\n",
    "\n",
    "    def __str__(self):\n",
    "        return str(self._unitary_())"
   ]
  },
  {
   "cell_type": "code",
   "execution_count": 7,
   "id": "330e0c0b",
   "metadata": {
    "tags": []
   },
   "outputs": [],
   "source": [
    "class QutritHadamard(cirq.Gate):\n",
    "    def _qid_shape_(self):\n",
    "        return 3,\n",
    "\n",
    "    @staticmethod\n",
    "    def _unitary_():\n",
    "        arr = np.array([\n",
    "            [1, 1, 1],\n",
    "            [1, exp(A), exp(B)],\n",
    "            [1, exp(B), exp(A)]\n",
    "        ], dtype=complex)\n",
    "        arr *= 1 / pow(3, 0.5)\n",
    "        return arr\n",
    "\n",
    "    @staticmethod\n",
    "    def _circuit_diagram_info_(args):\n",
    "        return 'H'\n",
    "\n",
    "    @property\n",
    "    def transform_matrix(self) -> np.ndarray:\n",
    "        return self._unitary_()\n",
    "\n",
    "    def __str__(self):\n",
    "        return str(self._unitary_())"
   ]
  },
  {
   "cell_type": "code",
   "execution_count": 8,
   "id": "cc5e8580",
   "metadata": {
    "tags": []
   },
   "outputs": [],
   "source": [
    "class QutritHadamardHermitik(cirq.Gate):\n",
    "    def _qid_shape_(self):\n",
    "        return 3,\n",
    "\n",
    "    @staticmethod\n",
    "    def _unitary_():\n",
    "        return QutritHadamard().transform_matrix.conjugate().T\n",
    "\n",
    "    @staticmethod\n",
    "    def _circuit_diagram_info_(args):\n",
    "        return 'Ht'\n",
    "\n",
    "    @property\n",
    "    def transform_matrix(self) -> np.ndarray:\n",
    "        return self._unitary_()\n",
    "\n",
    "    def __str__(self):\n",
    "        return str(self._unitary_())"
   ]
  },
  {
   "cell_type": "code",
   "execution_count": 9,
   "id": "a6bb4fae",
   "metadata": {
    "tags": []
   },
   "outputs": [],
   "source": [
    "class QutritCNOT(cirq.Gate):\n",
    "    def _qid_shape_(self):\n",
    "        return 3, 3,\n",
    "    \n",
    "    def _num_qubits_(self):\n",
    "        return 2\n",
    "\n",
    "    @staticmethod\n",
    "    def _unitary_():\n",
    "        arr = np.array([\n",
    "            [1, 0, 0, 0, 0, 0, 0, 0, 0],\n",
    "            [0, 1, 0, 0, 0, 0, 0, 0, 0],\n",
    "            [0, 0, 1, 0, 0, 0, 0, 0, 0],\n",
    "            [0, 0, 0, 0, 0, 1, 0, 0, 0],\n",
    "            [0, 0, 0, 1, 0, 0, 0, 0, 0],\n",
    "            [0, 0, 0, 0, 1, 0, 0, 0, 0],\n",
    "            [0, 0, 0, 0, 0, 0, 0, 1, 0],\n",
    "            [0, 0, 0, 0, 0, 0, 0, 0, 1],\n",
    "            [0, 0, 0, 0, 0, 0, 1, 0, 0]\n",
    "        ], dtype=complex)\n",
    "        return arr\n",
    "\n",
    "    @property\n",
    "    def transform_matrix(self) -> np.ndarray:\n",
    "        return self._unitary_()\n",
    "\n",
    "    @staticmethod\n",
    "    def _circuit_diagram_info_(args):\n",
    "        return protocols.CircuitDiagramInfo(\n",
    "            wire_symbols=('@', 'X'))\n",
    "\n",
    "    def __str__(self):\n",
    "        return str(self._unitary_())"
   ]
  },
  {
   "cell_type": "code",
   "execution_count": 29,
   "id": "aaaf867b",
   "metadata": {
    "tags": []
   },
   "outputs": [],
   "source": [
    "class QutritCNOTHermitik(cirq.Gate):\n",
    "    def _qid_shape_(self):\n",
    "        return 3, 3,\n",
    "    \n",
    "    def _num_qubits_():\n",
    "        return 2\n",
    "\n",
    "    @staticmethod\n",
    "    def _unitary_():\n",
    "        return QutritCNOT().transform_matrix.conjugate().T\n",
    "\n",
    "    @staticmethod\n",
    "    def _circuit_diagram_info_(args):\n",
    "        return protocols.CircuitDiagramInfo(\n",
    "            wire_symbols=('@\\'', 'X'))\n",
    "\n",
    "    @property\n",
    "    def transform_matrix(self) -> np.ndarray:\n",
    "        return self._unitary_()\n",
    "\n",
    "    def __str__(self):\n",
    "        return str(self._unitary_())"
   ]
  },
  {
   "cell_type": "code",
   "execution_count": 42,
   "id": "2ff04ce1-a337-4876-800d-f09ddaf67b49",
   "metadata": {
    "tags": []
   },
   "outputs": [],
   "source": [
    "class ZGate(cirq.Gate):\n",
    "    def __init__(self, q, p):\n",
    "        self.p = p\n",
    "        self.q = q\n",
    "        super().__init__()\n",
    "    \n",
    "    def _qid_shape_(self):\n",
    "        return 3,\n",
    "    \n",
    "    def _num_qubits_(self):\n",
    "        return 1\n",
    "    \n",
    "    def _unitary_(self):\n",
    "        if self.q == 0:\n",
    "            a = -A\n",
    "            b = -B\n",
    "        else:\n",
    "            a = -B\n",
    "            b = -a\n",
    "        if self.p == 0:\n",
    "            self.unitary_matrix = np.array([[1, 0, 0], [0, exp(a), 0], [0, 0, exp(b)]])\n",
    "        if self.p == 1:\n",
    "            self.unitary_matrix = np.array([[0, 1, 0], [0, 0, exp(a)], [exp(b), 0, 0]])\n",
    "        if self.p == 2:\n",
    "            self.unitary_matrix = np.array([[0, 0, 1], [exp(a), 0, 0], [0, exp(b), 0]])\n",
    "        return self.unitary_matrix\n",
    "    \n",
    "    @staticmethod\n",
    "    def _circuit_diagram_info_(args):\n",
    "        return 'Z'\n",
    "\n",
    "    @property\n",
    "    def transform_matrix(self) -> np.ndarray:\n",
    "        return self._unitary_()"
   ]
  },
  {
   "cell_type": "code",
   "execution_count": 45,
   "id": "a4e7eb6d",
   "metadata": {
    "tags": []
   },
   "outputs": [],
   "source": [
    "def teleportation_test(durum, shots):\n",
    "    qI, qA, qB = cirq.LineQid.range(3, dimension=3)\n",
    "    simulator = cirq.Simulator()\n",
    "    \n",
    "    # Başlangıç durumu seç\n",
    "    if durum == \"0\":\n",
    "        first = QutritIdle()\n",
    "    elif durum == \"1\":\n",
    "        first = CustomUGate(Unitaries[0][1][0])\n",
    "    elif durum == \"2\":\n",
    "        first = CustomUGate(Unitaries[0][2][0])\n",
    "    elif durum == \"hepsi\":\n",
    "        first = QutritHadamard()\n",
    "    else:\n",
    "        return\n",
    "    \n",
    "    # Devreyi tasarla.\n",
    "    circuit = cirq.Circuit()\n",
    "    circuit.append(first.on(qI))\n",
    "    circuit.append(QutritHadamard().on(qA))\n",
    "    circuit.append(QutritCNOT().on(qA, qB))\n",
    "    circuit.append(QutritCNOTHermitik().on(qI, qA))\n",
    "    circuit.append(QutritHadamard().on(qI)) \n",
    "    \n",
    "    num_controls = 2\n",
    "    qid_shape = (3, ) * num_controls\n",
    "    values = ((0), (1))\n",
    "    cont = CustomUGate(Unitaries[0][2][0]).controlled(num_controls, values, qid_shape)\n",
    "    circuit.append(cont.on(qI, qA, qB))\n",
    "    \n",
    "    num_controls = 2\n",
    "    qid_shape = (3, ) * num_controls\n",
    "    values = ((0), (2))\n",
    "    cont = CustomUGate(Unitaries[0][1][0]).controlled(num_controls, values, qid_shape)\n",
    "    circuit.append(cont.on(qI, qA, qB))\n",
    "    \n",
    "    num_controls = 2\n",
    "    qid_shape = (3, ) * num_controls\n",
    "    values = ((1), (0))\n",
    "    cont = ZGate(0, 0).controlled(num_controls, values, qid_shape)\n",
    "    circuit.append(cont.on(qI, qA, qB))\n",
    "    \n",
    "    num_controls = 2\n",
    "    qid_shape = (3, ) * num_controls\n",
    "    values = ((1), (1))\n",
    "    cont = ZGate(0, 1).controlled(num_controls, values, qid_shape)\n",
    "    circuit.append(cont.on(qI, qA, qB))\n",
    "    \n",
    "    num_controls = 2\n",
    "    qid_shape = (3, ) * num_controls\n",
    "    values = ((1), (2))\n",
    "    cont = ZGate(0, 2).controlled(num_controls, values, qid_shape)\n",
    "    circuit.append(cont.on(qI, qA, qB))\n",
    "    \n",
    "    num_controls = 2\n",
    "    qid_shape = (3, ) * num_controls\n",
    "    values = ((2), (0))\n",
    "    cont = ZGate(1, 0).controlled(num_controls, values, qid_shape)\n",
    "    circuit.append(cont.on(qI, qA, qB))\n",
    "    \n",
    "    num_controls = 2\n",
    "    qid_shape = (3, ) * num_controls\n",
    "    values = ((2), (1))\n",
    "    cont = ZGate(1, 1).controlled(num_controls, values, qid_shape)\n",
    "    circuit.append(cont.on(qI, qA, qB))\n",
    "    \n",
    "    num_controls = 2\n",
    "    qid_shape = (3, ) * num_controls\n",
    "    values = ((2), (2))\n",
    "    cont = ZGate(1, 2).controlled(num_controls, values, qid_shape)\n",
    "    circuit.append(cont.on(qI, qA, qB))\n",
    "    \n",
    "    \n",
    "    circuit.append(cirq.measure(qB, key='qB'))\n",
    "    print(circuit)\n",
    "    \n",
    "    # Simüle et ve sonuçları döndür.\n",
    "    result = simulator.run(circuit, repetitions=shots)\n",
    "    unique, counts = np.unique(result.measurements['qB'], return_counts=True)\n",
    "    new = dict(zip(unique, counts))\n",
    "    return new"
   ]
  },
  {
   "cell_type": "code",
   "execution_count": 46,
   "id": "111f85d2",
   "metadata": {
    "tags": []
   },
   "outputs": [
    {
     "name": "stdout",
     "output_type": "stream",
     "text": [
      "0 (d=3): ───I───────@'───H───(0)───(0)───@─────@───@─────(2)───(2)───(2)─────────────\n",
      "                    │        │     │     │     │   │     │     │     │\n",
      "1 (d=3): ───H───@───X────────@─────(2)───(0)───@───(2)───(0)───@─────(2)─────────────\n",
      "                │            │     │     │     │   │     │     │     │\n",
      "2 (d=3): ───────X────────────U─────U─────Z─────Z───Z─────Z─────Z─────Z─────M('qB')───\n"
     ]
    },
    {
     "data": {
      "text/plain": [
       "Text(0, 0.5, 'Adet')"
      ]
     },
     "execution_count": 46,
     "metadata": {},
     "output_type": "execute_result"
    },
    {
     "data": {
      "image/png": "[encoded data removed]",
      "text/plain": [
       "<Figure size 432x288 with 1 Axes>"
      ]
     },
     "metadata": {
      "needs_background": "light"
     },
     "output_type": "display_data"
    }
   ],
   "source": [
    "results = teleportation_test(durum=\"0\", shots=1024)\n",
    "pyplot.bar(results.keys(), results.values())\n",
    "pyplot.title(\"Işınlama (0) Sonuçları\")\n",
    "pyplot.xlabel(\"Durumlar\")\n",
    "pyplot.ylabel(\"Adet\")"
   ]
  },
  {
   "cell_type": "code",
   "execution_count": 47,
   "id": "2df6f511",
   "metadata": {
    "tags": []
   },
   "outputs": [
    {
     "name": "stdout",
     "output_type": "stream",
     "text": [
      "0 (d=3): ───U───────@'───H───(0)───(0)───@─────@───@─────(2)───(2)───(2)─────────────\n",
      "                    │        │     │     │     │   │     │     │     │\n",
      "1 (d=3): ───H───@───X────────@─────(2)───(0)───@───(2)───(0)───@─────(2)─────────────\n",
      "                │            │     │     │     │   │     │     │     │\n",
      "2 (d=3): ───────X────────────U─────U─────Z─────Z───Z─────Z─────Z─────Z─────M('qB')───\n"
     ]
    },
    {
     "data": {
      "text/plain": [
       "Text(0, 0.5, 'Adet')"
      ]
     },
     "execution_count": 47,
     "metadata": {},
     "output_type": "execute_result"
    },
    {
     "data": {
      "image/png": "[encoded data removed]",
      "text/plain": [
       "<Figure size 432x288 with 1 Axes>"
      ]
     },
     "metadata": {
      "needs_background": "light"
     },
     "output_type": "display_data"
    }
   ],
   "source": [
    "results = teleportation_test(durum=\"1\", shots=1024)\n",
    "pyplot.bar(results.keys(), results.values())\n",
    "pyplot.title(\"Işınlama (1) Sonuçları\")\n",
    "pyplot.xlabel(\"Durumlar\")\n",
    "pyplot.ylabel(\"Adet\")"
   ]
  },
  {
   "cell_type": "code",
   "execution_count": 48,
   "id": "b84f744d",
   "metadata": {
    "tags": []
   },
   "outputs": [
    {
     "name": "stdout",
     "output_type": "stream",
     "text": [
      "0 (d=3): ───U───────@'───H───(0)───(0)───@─────@───@─────(2)───(2)───(2)─────────────\n",
      "                    │        │     │     │     │   │     │     │     │\n",
      "1 (d=3): ───H───@───X────────@─────(2)───(0)───@───(2)───(0)───@─────(2)─────────────\n",
      "                │            │     │     │     │   │     │     │     │\n",
      "2 (d=3): ───────X────────────U─────U─────Z─────Z───Z─────Z─────Z─────Z─────M('qB')───\n"
     ]
    },
    {
     "data": {
      "text/plain": [
       "Text(0, 0.5, 'Adet')"
      ]
     },
     "execution_count": 48,
     "metadata": {},
     "output_type": "execute_result"
    },
    {
     "data": {
      "image/png": "[encoded data removed]",
      "text/plain": [
       "<Figure size 432x288 with 1 Axes>"
      ]
     },
     "metadata": {
      "needs_background": "light"
     },
     "output_type": "display_data"
    }
   ],
   "source": [
    "results = teleportation_test(durum=\"2\", shots=1024)\n",
    "pyplot.bar(results.keys(), results.values())\n",
    "pyplot.title(\"Işınlama (2) Sonuçları\")\n",
    "pyplot.xlabel(\"Durumlar\")\n",
    "pyplot.ylabel(\"Adet\")"
   ]
  },
  {
   "cell_type": "code",
   "execution_count": 49,
   "id": "b2e98635",
   "metadata": {
    "tags": []
   },
   "outputs": [
    {
     "name": "stdout",
     "output_type": "stream",
     "text": [
      "0 (d=3): ───H───────@'───H───(0)───(0)───@─────@───@─────(2)───(2)───(2)─────────────\n",
      "                    │        │     │     │     │   │     │     │     │\n",
      "1 (d=3): ───H───@───X────────@─────(2)───(0)───@───(2)───(0)───@─────(2)─────────────\n",
      "                │            │     │     │     │   │     │     │     │\n",
      "2 (d=3): ───────X────────────U─────U─────Z─────Z───Z─────Z─────Z─────Z─────M('qB')───\n"
     ]
    },
    {
     "data": {
      "text/plain": [
       "Text(0, 0.5, 'Adet')"
      ]
     },
     "execution_count": 49,
     "metadata": {},
     "output_type": "execute_result"
    },
    {
     "data": {
      "image/png": "[encoded data removed]",
      "text/plain": [
       "<Figure size 432x288 with 1 Axes>"
      ]
     },
     "metadata": {
      "needs_background": "light"
     },
     "output_type": "display_data"
    }
   ],
   "source": [
    "results = teleportation_test(durum=\"hepsi\", shots=1024)\n",
    "pyplot.bar(results.keys(), results.values())\n",
    "pyplot.title(\"Işınlama (tüm durumlar) Sonuçları\")\n",
    "pyplot.xlabel(\"Durumlar\")\n",
    "pyplot.ylabel(\"Adet\")"
   ]
  },
  {
   "cell_type": "markdown",
   "id": "08425c28",
   "metadata": {},
   "source": [
    "## 4. Boyutta Işınlama"
   ]
  },
  {
   "cell_type": "code",
   "execution_count": 16,
   "id": "80ba069f",
   "metadata": {},
   "outputs": [],
   "source": [
    "from cmath import exp\n",
    "from math import pi, pow\n",
    "\n",
    "import cirq\n",
    "import numpy as np\n",
    "from cirq import protocols\n",
    "from matplotlib import pyplot"
   ]
  },
  {
   "cell_type": "code",
   "execution_count": 17,
   "id": "f10d6c33",
   "metadata": {},
   "outputs": [],
   "source": [
    "# complex 0 + 1i\n",
    "Imag = complex(0, 1)\n",
    "\n",
    "A = (2 * pi * Imag / 4)\n",
    "B = (4 * pi * Imag / 4)\n",
    "C = (6 * pi * Imag / 4)\n",
    "D = (8 * pi * Imag / 4)\n",
    "E = (12 * pi * Imag / 4)\n",
    "F = (18 * pi * Imag / 4)"
   ]
  },
  {
   "cell_type": "code",
   "execution_count": 18,
   "id": "407beea6",
   "metadata": {},
   "outputs": [],
   "source": [
    "Unitaries = [\n",
    "    [\n",
    "        [np.array([[1, 0, 0, 0], [0, 1, 0, 0], [0, 0, 1, 0], [0, 0, 0, 1]], dtype=complex)],\n",
    "        [np.array([[0, 0, 0, 1], [1, 0, 0, 0], [0, 1, 0, 0], [0, 0, 1, 0]], dtype=complex)],\n",
    "        [np.array([[0, 0, 1, 0], [0, 0, 0, 1], [1, 0, 0, 0], [0, 1, 0, 0]], dtype=complex)],\n",
    "        [np.array([[0, 1, 0, 0], [0, 0, 1, 0], [0, 0, 0, 1], [1, 0, 0, 0]], dtype=complex)]\n",
    "    ],\n",
    "    [\n",
    "        [np.array([[1, 0, 0, 0], [0, A, 0, 0], [0, 0, B, 0], [0, 0, 0, C]], dtype=complex)],\n",
    "        [np.array([[0, 0, 0, C], [1, 0, 0, 0], [0, A, 0, 0], [0, 0, B, 0]], dtype=complex)],\n",
    "        [np.array([[0, 0, B, 0], [0, 0, 0, C], [1, 0, 0, 0], [0, A, 0, 0]], dtype=complex)],\n",
    "        [np.array([[0, A, 0, 0], [0, 0, B, 0], [0, 0, 0, C], [1, 0, 0, 0]], dtype=complex)]\n",
    "    ],\n",
    "    [\n",
    "        [np.array([[1, 0, 0, 0], [0, B, 0, 0], [0, 0, D, 0], [0, 0, 0, E]], dtype=complex)],\n",
    "        [np.array([[0, 0, 0, E], [1, 0, 0, 0], [0, B, 0, 0], [0, 0, D, 0]], dtype=complex)],\n",
    "        [np.array([[0, 0, D, 0], [0, 0, 0, E], [1, 0, 0, 0], [0, B, 0, 0]], dtype=complex)],\n",
    "        [np.array([[0, B, 0, 0], [0, 0, D, 0], [0, 0, 0, E], [1, 0, 0, 0]], dtype=complex)]\n",
    "\n",
    "    ],\n",
    "    [\n",
    "        [np.array([[1, 0, 0, 0], [0, C, 0, 0], [0, 0, E, 0], [0, 0, 0, F]], dtype=complex)],\n",
    "        [np.array([[0, 0, 0, F], [1, 0, 0, 0], [0, C, 0, 0], [0, 0, E, 0]], dtype=complex)],\n",
    "        [np.array([[0, 0, E, 0], [0, 0, 0, F], [1, 0, 0, 0], [0, C, 0, 0]], dtype=complex)],\n",
    "        [np.array([[0, C, 0, 0], [0, 0, E, 0], [0, 0, 0, F], [1, 0, 0, 0]], dtype=complex)]\n",
    "    ]\n",
    "]"
   ]
  },
  {
   "cell_type": "code",
   "execution_count": 19,
   "id": "5dc90233",
   "metadata": {},
   "outputs": [],
   "source": [
    "class CustomUGate(cirq.SingleQubitGate):\n",
    "    def __init__(self, unitary_matrix):\n",
    "        self.unitary_matrix = unitary_matrix\n",
    "        super().__init__()\n",
    "\n",
    "    def _qid_shape_(self):\n",
    "        return 4,\n",
    "    \n",
    "    def _num_qubits_():\n",
    "        return 1\n",
    "\n",
    "    def _unitary_(self):\n",
    "        return self.unitary_matrix\n",
    "\n",
    "    @staticmethod\n",
    "    def _circuit_diagram_info_(args):\n",
    "        return 'U'\n",
    "\n",
    "    @property\n",
    "    def transform_matrix(self) -> np.ndarray:\n",
    "        return self._unitary_()\n",
    "\n",
    "    def __str__(self):\n",
    "        return str(self._unitary_())"
   ]
  },
  {
   "cell_type": "code",
   "execution_count": 20,
   "id": "b7c90370",
   "metadata": {},
   "outputs": [],
   "source": [
    "class QuqritIdle(cirq.SingleQubitGate):\n",
    "    def _qid_shape_(self):\n",
    "        return 4,\n",
    "\n",
    "    @staticmethod\n",
    "    def _unitary_():\n",
    "        return Unitaries[0][0][0]\n",
    "\n",
    "    @staticmethod\n",
    "    def _circuit_diagram_info_(args):\n",
    "        return 'I'\n",
    "\n",
    "    @property\n",
    "    def transform_matrix(self) -> np.ndarray:\n",
    "        return self._unitary_()\n",
    "\n",
    "    def __str__(self):\n",
    "        return str(self._unitary_())"
   ]
  },
  {
   "cell_type": "code",
   "execution_count": 21,
   "id": "458c5e93",
   "metadata": {},
   "outputs": [],
   "source": [
    "class QuqritHadamard(cirq.SingleQubitGate):\n",
    "    def _qid_shape_(self):\n",
    "        return 4,\n",
    "\n",
    "    @staticmethod\n",
    "    def _unitary_():\n",
    "        arr = np.array([\n",
    "            [1, 1, 1, 1],\n",
    "            [1, exp(A), exp(B), exp(C)],\n",
    "            [1, exp(B), exp(D), exp(E)],\n",
    "            [1, exp(C), exp(E), exp(F)]\n",
    "        ], dtype=complex)\n",
    "        arr *= 1 / 2\n",
    "        return arr\n",
    "\n",
    "    @staticmethod\n",
    "    def _circuit_diagram_info_(args):\n",
    "        return 'H'\n",
    "\n",
    "    @property\n",
    "    def transform_matrix(self) -> np.ndarray:\n",
    "        return self._unitary_()\n",
    "\n",
    "    def __str__(self):\n",
    "        return str(self._unitary_())\n"
   ]
  },
  {
   "cell_type": "code",
   "execution_count": 22,
   "id": "bfb69797",
   "metadata": {},
   "outputs": [],
   "source": [
    "class QuqritHadamardHermitik(cirq.SingleQubitGate):\n",
    "    def _qid_shape_(self):\n",
    "        return 4,\n",
    "\n",
    "    @staticmethod\n",
    "    def _unitary_():\n",
    "        return QuqritHadamard().transform_matrix.conjugate().T\n",
    "\n",
    "    @staticmethod\n",
    "    def _circuit_diagram_info_(args):\n",
    "        return 'Ht'\n",
    "\n",
    "    @property\n",
    "    def transform_matrix(self) -> np.ndarray:\n",
    "        return self._unitary_()\n",
    "\n",
    "    def __str__(self):\n",
    "        return str(self._unitary_())"
   ]
  },
  {
   "cell_type": "code",
   "execution_count": 23,
   "id": "919628f6",
   "metadata": {},
   "outputs": [],
   "source": [
    "class QuqritCNOT(cirq.Gate):\n",
    "    def _qid_shape_(self):\n",
    "        return 4, 4,\n",
    "\n",
    "    @staticmethod\n",
    "    def _unitary_():\n",
    "        arr = np.zeros(shape=(16, 16), dtype=complex)\n",
    "        arr[0][0], arr[1][1], arr[2][2], arr[3][3] = 1, 1, 1, 1\n",
    "        arr[4][7], arr[5][4], arr[6][5], arr[7][6] = 1, 1, 1, 1\n",
    "        arr[8][10], arr[9][11], arr[10][8], arr[11][9] = 1, 1, 1, 1\n",
    "        arr[12][13], arr[13][14], arr[14][15], arr[15][12] = 1, 1, 1, 1\n",
    "        return arr\n",
    "\n",
    "    @property\n",
    "    def transform_matrix(self) -> np.ndarray:\n",
    "        return self._unitary_()\n",
    "\n",
    "    @staticmethod\n",
    "    def _circuit_diagram_info_(args):\n",
    "        return protocols.CircuitDiagramInfo(\n",
    "            wire_symbols=('@', 'X'))\n",
    "\n",
    "    def __str__(self):\n",
    "        return str(self._unitary_())"
   ]
  },
  {
   "cell_type": "code",
   "execution_count": 24,
   "id": "f2c133e3",
   "metadata": {},
   "outputs": [],
   "source": [
    "class QutritCNOTHermitik(cirq.Gate):\n",
    "    def _qid_shape_(self):\n",
    "        return 4, 4,\n",
    "\n",
    "    @staticmethod\n",
    "    def _unitary_():\n",
    "        return QuqritCNOT().transform_matrix.conjugate().T\n",
    "\n",
    "    @staticmethod\n",
    "    def _circuit_diagram_info_(args):\n",
    "        return protocols.CircuitDiagramInfo(\n",
    "            wire_symbols=('@\\'', 'X'))\n",
    "\n",
    "    @property\n",
    "    def transform_matrix(self) -> np.ndarray:\n",
    "        return self._unitary_()\n",
    "\n",
    "    def __str__(self):\n",
    "        return str(self._unitary_())\n"
   ]
  },
  {
   "cell_type": "code",
   "execution_count": 31,
   "id": "c27ef242",
   "metadata": {},
   "outputs": [],
   "source": [
    "class SpecialGate(cirq.Gate):\n",
    "    def __init__(self, matrix=None):\n",
    "        if matrix is not None:\n",
    "            self.unitary_matrix = matrix\n",
    "\n",
    "    def _qid_shape_(self):\n",
    "        return 4, 4, 4\n",
    "\n",
    "    def _unitary_(self):\n",
    "        arr = np.zeros(shape=(64, 64), dtype=complex)\n",
    "        arr[0][0], arr[1][1], arr[2][2], arr[3][3] = 1, 1, 1, 1\n",
    "        arr[4][5], arr[5][6], arr[6][7], arr[7][4] = 1, 1, 1, 1\n",
    "        arr[8][10], arr[9][11], arr[10][8], arr[11][9] = 1, 1, 1, 1\n",
    "        arr[12][15], arr[13][12], arr[14][13], arr[15][14] = 1, 1, 1, 1\n",
    "        arr[16][16], arr[17][17], arr[18][18], arr[19][19] = 1, exp(-A), exp(-B), exp(-C)\n",
    "        arr[20][21], arr[21][22], arr[22][23], arr[23][20] = 1, exp(-A), exp(-B), exp(-C)\n",
    "        arr[24][26], arr[25][27], arr[26][24], arr[27][25] = 1, exp(-A), exp(-B), exp(-C)\n",
    "        arr[28][31], arr[29][28], arr[30][29], arr[31][30] = 1, exp(-A), exp(-B), exp(-C)\n",
    "        arr[32][32], arr[33][33], arr[34][34], arr[35][35] = 1, exp(-B), exp(-D), exp(-E)\n",
    "        arr[36][37], arr[37][38], arr[38][39], arr[39][36] = 1, exp(-B), exp(-D), exp(-E)\n",
    "        arr[40][42], arr[41][43], arr[42][40], arr[43][41] = 1, exp(-B), exp(-D), exp(-E)\n",
    "        arr[44][47], arr[45][44], arr[46][45], arr[47][46] = 1, exp(-B), exp(-D), exp(-E)\n",
    "        arr[48][48], arr[49][49], arr[50][50], arr[51][51] = 1, exp(-C), exp(-E), exp(-F)\n",
    "        arr[52][53], arr[53][54], arr[54][55], arr[55][52] = 1, exp(-C), exp(-E), exp(-F)\n",
    "        arr[56][58], arr[57][59], arr[58][56], arr[59][57] = 1, exp(-C), exp(-E), exp(-F)\n",
    "        arr[60][63], arr[61][60], arr[62][61], arr[63][62] = 1, exp(-F), exp(-E), exp(-F)\n",
    "        self.unitary_matrix = arr\n",
    "        return self.unitary_matrix\n",
    "\n",
    "    @staticmethod\n",
    "    def _circuit_diagram_info_(args):\n",
    "        return protocols.CircuitDiagramInfo(\n",
    "            wire_symbols=('S', 'S', 'S'))\n",
    "\n",
    "    @property\n",
    "    def transform_matrix(self) -> np.ndarray:\n",
    "        return self._unitary_()\n",
    "\n",
    "    def __str__(self):\n",
    "        return str(self._unitary_())"
   ]
  },
  {
   "cell_type": "code",
   "execution_count": 32,
   "id": "6a53a456",
   "metadata": {},
   "outputs": [],
   "source": [
    "def teleportation_test(durum, shots):\n",
    "    qI, qA, qB = cirq.LineQid.range(3, dimension=4)\n",
    "    simulator = cirq.Simulator()\n",
    "\n",
    "    if durum == \"0\":\n",
    "        first = QuqritIdle()\n",
    "    elif durum == \"1\":\n",
    "        first = CustomUGate(Unitaries[0][1][0])\n",
    "    elif durum == \"2\":\n",
    "        first = CustomUGate(Unitaries[0][2][0])\n",
    "    elif durum == \"3\":\n",
    "        first = CustomUGate(Unitaries[0][3][0])\n",
    "    elif durum == \"hepsi\":\n",
    "        first = QuqritHadamard()\n",
    "    else:\n",
    "        return\n",
    "    \n",
    "    circuit = cirq.Circuit(\n",
    "        first.on(qI),\n",
    "        QuqritHadamard().on(qA), QuqritCNOT().on(qA, qB),\n",
    "        QutritCNOTHermitik().on(qI, qA), QuqritHadamard().on(qI),\n",
    "        SpecialGate().on(qI, qA, qB), cirq.measure(qB, key='qB'))\n",
    "    \n",
    "    print(circuit)\n",
    "    result = simulator.run(circuit, repetitions=shots)\n",
    "    \n",
    "    unique, counts = np.unique(result.measurements['qB'], return_counts=True)\n",
    "    new = dict(zip(unique, counts))\n",
    "    return new"
   ]
  },
  {
   "cell_type": "code",
   "execution_count": 33,
   "id": "61e06d1e",
   "metadata": {},
   "outputs": [
    {
     "name": "stdout",
     "output_type": "stream",
     "text": [
      "0 (d=4): ───I───────@'───H───S─────────────\n",
      "                    │        │\n",
      "1 (d=4): ───H───@───X────────S─────────────\n",
      "                │            │\n",
      "2 (d=4): ───────X────────────S───M('qB')───\n"
     ]
    },
    {
     "data": {
      "text/plain": [
       "Text(0, 0.5, 'Adet')"
      ]
     },
     "execution_count": 33,
     "metadata": {},
     "output_type": "execute_result"
    },
    {
     "data": {
      "image/png": "[encoded data removed]",
      "text/plain": [
       "<Figure size 432x288 with 1 Axes>"
      ]
     },
     "metadata": {
      "needs_background": "light"
     },
     "output_type": "display_data"
    }
   ],
   "source": [
    "results = teleportation_test(durum=\"0\", shots=1024)\n",
    "pyplot.bar(results.keys(), results.values())\n",
    "pyplot.title(\"Işınlama (0 Sonuçları\")\n",
    "pyplot.xlabel(\"Durumlar\")\n",
    "pyplot.ylabel(\"Adet\")"
   ]
  },
  {
   "cell_type": "code",
   "execution_count": 34,
   "id": "baa7c030",
   "metadata": {},
   "outputs": [
    {
     "name": "stdout",
     "output_type": "stream",
     "text": [
      "0 (d=4): ───U───────@'───H───S─────────────\n",
      "                    │        │\n",
      "1 (d=4): ───H───@───X────────S─────────────\n",
      "                │            │\n",
      "2 (d=4): ───────X────────────S───M('qB')───\n"
     ]
    },
    {
     "data": {
      "text/plain": [
       "Text(0, 0.5, 'Adet')"
      ]
     },
     "execution_count": 34,
     "metadata": {},
     "output_type": "execute_result"
    },
    {
     "data": {
      "image/png": "[encoded data removed]",
      "text/plain": [
       "<Figure size 432x288 with 1 Axes>"
      ]
     },
     "metadata": {
      "needs_background": "light"
     },
     "output_type": "display_data"
    }
   ],
   "source": [
    "results = teleportation_test(durum=\"1\", shots=1024)\n",
    "pyplot.bar(results.keys(), results.values())\n",
    "pyplot.title(\"Işınlama (1) Sonuçları\")\n",
    "pyplot.xlabel(\"Durumlar\")\n",
    "pyplot.ylabel(\"Adet\")"
   ]
  },
  {
   "cell_type": "code",
   "execution_count": 35,
   "id": "4f7ce242",
   "metadata": {},
   "outputs": [
    {
     "name": "stdout",
     "output_type": "stream",
     "text": [
      "0 (d=4): ───U───────@'───H───S─────────────\n",
      "                    │        │\n",
      "1 (d=4): ───H───@───X────────S─────────────\n",
      "                │            │\n",
      "2 (d=4): ───────X────────────S───M('qB')───\n"
     ]
    },
    {
     "data": {
      "text/plain": [
       "Text(0, 0.5, 'Adet')"
      ]
     },
     "execution_count": 35,
     "metadata": {},
     "output_type": "execute_result"
    },
    {
     "data": {
      "image/png": "[encoded data removed]",
      "text/plain": [
       "<Figure size 432x288 with 1 Axes>"
      ]
     },
     "metadata": {
      "needs_background": "light"
     },
     "output_type": "display_data"
    }
   ],
   "source": [
    "results = teleportation_test(durum=\"2\", shots=1024)\n",
    "pyplot.bar(results.keys(), results.values())\n",
    "pyplot.title(\"Işınlama (2) Sonuçları\")\n",
    "pyplot.xlabel(\"Durumlar\")\n",
    "pyplot.ylabel(\"Adet\")"
   ]
  },
  {
   "cell_type": "code",
   "execution_count": 36,
   "id": "437f1608",
   "metadata": {},
   "outputs": [
    {
     "name": "stdout",
     "output_type": "stream",
     "text": [
      "0 (d=4): ───U───────@'───H───S─────────────\n",
      "                    │        │\n",
      "1 (d=4): ───H───@───X────────S─────────────\n",
      "                │            │\n",
      "2 (d=4): ───────X────────────S───M('qB')───\n"
     ]
    },
    {
     "data": {
      "text/plain": [
       "Text(0, 0.5, 'Adet')"
      ]
     },
     "execution_count": 36,
     "metadata": {},
     "output_type": "execute_result"
    },
    {
     "data": {
      "image/png": "[encoded data removed]",
      "text/plain": [
       "<Figure size 432x288 with 1 Axes>"
      ]
     },
     "metadata": {
      "needs_background": "light"
     },
     "output_type": "display_data"
    }
   ],
   "source": [
    "results = teleportation_test(durum=\"3\", shots=1024)\n",
    "pyplot.bar(results.keys(), results.values())\n",
    "pyplot.title(\"Işınlama (3) Sonuçları\")\n",
    "pyplot.xlabel(\"Durumlar\")\n",
    "pyplot.ylabel(\"Adet\")"
   ]
  },
  {
   "cell_type": "code",
   "execution_count": 38,
   "id": "84cdf01c",
   "metadata": {},
   "outputs": [
    {
     "name": "stdout",
     "output_type": "stream",
     "text": [
      "0 (d=4): ───H───────@'───H───S─────────────\n",
      "                    │        │\n",
      "1 (d=4): ───H───@───X────────S─────────────\n",
      "                │            │\n",
      "2 (d=4): ───────X────────────S───M('qB')───\n"
     ]
    },
    {
     "data": {
      "text/plain": [
       "Text(0, 0.5, 'Adet')"
      ]
     },
     "execution_count": 38,
     "metadata": {},
     "output_type": "execute_result"
    },
    {
     "data": {
      "image/png": "[encoded data removed]",
      "text/plain": [
       "<Figure size 432x288 with 1 Axes>"
      ]
     },
     "metadata": {
      "needs_background": "light"
     },
     "output_type": "display_data"
    }
   ],
   "source": [
    "results = teleportation_test(durum=\"hepsi\", shots=1024)\n",
    "pyplot.bar(results.keys(), results.values())\n",
    "pyplot.title(\"Işınlama (tüm durumlar) Sonuçları\")\n",
    "pyplot.xlabel(\"Durumlar\")\n",
    "pyplot.ylabel(\"Adet\")"
   ]
  },
  {
   "cell_type": "code",
   "execution_count": null,
   "id": "21696081",
   "metadata": {},
   "outputs": [],
   "source": []
  }
 ],
 "metadata": {
  "kernelspec": {
   "display_name": "Python 3 (ipykernel)",
   "language": "python",
   "name": "python3"
  },
  "language_info": {
   "codemirror_mode": {
    "name": "ipython",
    "version": 3
   },
   "file_extension": ".py",
   "mimetype": "text/x-python",
   "name": "python",
   "nbconvert_exporter": "python",
   "pygments_lexer": "ipython3",
   "version": "3.10.12"
  }
 },
 "nbformat": 4,
 "nbformat_minor": 5
}

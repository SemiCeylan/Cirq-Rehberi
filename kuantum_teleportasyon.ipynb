{
 "cells": [
  {
   "cell_type": "markdown",
   "id": "65a58c95",
   "metadata": {},
   "source": [
    "## Kuantum Teleportasyon"
   ]
  },
  {
   "cell_type": "code",
   "execution_count": 1,
   "id": "bca95c36",
   "metadata": {},
   "outputs": [],
   "source": [
    "import cirq\n",
    "import numpy"
   ]
  },
  {
   "cell_type": "code",
   "execution_count": 2,
   "id": "462ca3f0",
   "metadata": {},
   "outputs": [
    {
     "name": "stdout",
     "output_type": "stream",
     "text": [
      "List of qubits in circuit:  [cirq.LineQubit(0), cirq.LineQubit(1)]\n"
     ]
    }
   ],
   "source": [
    "# Devreyi ilkler.\n",
    "my_circuit = cirq.Circuit()\n",
    "\n",
    "# 2 boyutta 2 adet qubit oluşturur.\n",
    "qubits = cirq.LineQubit.range(2)\n",
    "\n",
    "# 2'den farklı boyutta şöyle kullanılabilir.\n",
    "# Örnek 4.boyuttan 2 adet kudit.\n",
    "qudits = cirq.LineQid.range(2, dimension=4)\n",
    "\n",
    "print(\"List of qubits in circuit: \", qubits)"
   ]
  },
  {
   "cell_type": "code",
   "execution_count": 3,
   "id": "d46beb25",
   "metadata": {},
   "outputs": [],
   "source": [
    "# Hadamard ilk kubite uygulanır.\n",
    "my_circuit.append(cirq.H(qubits[0]))\n",
    "\n",
    "# CNOT ilk ve ikinci kubite uygulanır. (İlk kubit kaynak, ikinci kubit hedef)\n",
    "my_circuit.append(cirq.CNOT(qubits[0], qubits[1]))\n",
    "my_circuit.append(cirq.measure(qubits[0], qubits[1]))"
   ]
  },
  {
   "cell_type": "code",
   "execution_count": 4,
   "id": "cd8cf282",
   "metadata": {},
   "outputs": [
    {
     "name": "stdout",
     "output_type": "stream",
     "text": [
      "0: ───H───@───M───\n",
      "          │   │\n",
      "1: ───────X───M───\n"
     ]
    }
   ],
   "source": [
    "print(my_circuit)"
   ]
  },
  {
   "cell_type": "code",
   "execution_count": 5,
   "id": "9035d2d9",
   "metadata": {},
   "outputs": [],
   "source": [
    "# Repetitions kullanarak bir devre için örnekleme elde edebiliyoruz.\n",
    "sim = cirq.Simulator()\n",
    "results = sim.run(my_circuit, repetitions=1024)"
   ]
  },
  {
   "cell_type": "code",
   "execution_count": 6,
   "id": "79a17cf9",
   "metadata": {
    "scrolled": true
   },
   "outputs": [
    {
     "name": "stdout",
     "output_type": "stream",
     "text": [
      "<class 'dict'>\n"
     ]
    }
   ],
   "source": [
    "print(type(results.measurements))"
   ]
  },
  {
   "cell_type": "code",
   "execution_count": 7,
   "id": "1b550cc0",
   "metadata": {},
   "outputs": [
    {
     "name": "stdout",
     "output_type": "stream",
     "text": [
      "dict_keys(['0,1'])\n"
     ]
    }
   ],
   "source": [
    "print(results.measurements.keys())"
   ]
  },
  {
   "cell_type": "code",
   "execution_count": 8,
   "id": "f4fe5dd2",
   "metadata": {},
   "outputs": [
    {
     "name": "stdout",
     "output_type": "stream",
     "text": [
      "Toplam ölçüm sayısı:  1024\n",
      "Ölçümler: \n",
      "[[1 1]\n",
      " [1 1]\n",
      " [0 0]\n",
      " ...\n",
      " [0 0]\n",
      " [0 0]\n",
      " [1 1]]\n"
     ]
    }
   ],
   "source": [
    "print(\"Toplam ölçüm sayısı: \", len(results.measurements['0,1']))\n",
    "print(\"Ölçümler: \")\n",
    "print(results.measurements['0,1'])"
   ]
  },
  {
   "cell_type": "code",
   "execution_count": 9,
   "id": "b210be54",
   "metadata": {},
   "outputs": [
    {
     "name": "stdout",
     "output_type": "stream",
     "text": [
      "dict_keys(['R'])\n"
     ]
    }
   ],
   "source": [
    "# Tekrardan devreyi kuralım.\n",
    "my_circuit = cirq.Circuit()\n",
    "my_circuit.append(cirq.H(qubits[0]))\n",
    "my_circuit.append(cirq.CNOT(qubits[0], qubits[1]))\n",
    "\n",
    "# Bu adımda anahtar kelime verelim.\n",
    "my_circuit.append(cirq.measure(qubits[0], qubits[1], key='R'))\n",
    "\n",
    "sim = cirq.Simulator()\n",
    "results = sim.run(my_circuit, repetitions=1024)\n",
    "print(results.measurements.keys())"
   ]
  },
  {
   "cell_type": "code",
   "execution_count": 10,
   "id": "0be61123",
   "metadata": {},
   "outputs": [
    {
     "name": "stdout",
     "output_type": "stream",
     "text": [
      "Ölçüm sonucundaki ahantar kelimeler:  dict_keys(['Kubit_0', 'Kubit_1'])\n"
     ]
    }
   ],
   "source": [
    "# Tekrardan devreyi kuralım.\n",
    "my_circuit = cirq.Circuit()\n",
    "my_circuit.append(cirq.H(qubits[0]))\n",
    "my_circuit.append(cirq.CNOT(qubits[0], qubits[1]))\n",
    "\n",
    "# Bu adımda ölçümleri ayıralım.\n",
    "my_circuit.append(cirq.measure(qubits[0], key='Kubit_0'))\n",
    "my_circuit.append(cirq.measure(qubits[1], key='Kubit_1'))\n",
    "\n",
    "\n",
    "sim = cirq.Simulator()\n",
    "results = sim.run(my_circuit, repetitions=1024)\n",
    "print(\"Ölçüm sonucundaki ahantar kelimeler: \", results.measurements.keys())"
   ]
  },
  {
   "cell_type": "code",
   "execution_count": 11,
   "id": "7a98ef6a",
   "metadata": {},
   "outputs": [
    {
     "name": "stdout",
     "output_type": "stream",
     "text": [
      "İlk kubit: \n",
      " [[0]\n",
      " [1]\n",
      " [0]\n",
      " ...\n",
      " [0]\n",
      " [0]\n",
      " [0]]\n",
      "İkinci kubit: \n",
      " [[0]\n",
      " [1]\n",
      " [0]\n",
      " ...\n",
      " [0]\n",
      " [0]\n",
      " [0]]\n"
     ]
    }
   ],
   "source": [
    "# Yukarıdan gelen anahtar kelimeler.\n",
    "print(\"İlk kubit: \\n\", results.measurements[\"Kubit_0\"])\n",
    "print(\"İkinci kubit: \\n\", results.measurements[\"Kubit_1\"])"
   ]
  },
  {
   "cell_type": "code",
   "execution_count": 12,
   "id": "a4f9ee31",
   "metadata": {},
   "outputs": [
    {
     "name": "stdout",
     "output_type": "stream",
     "text": [
      "{'00': 525, '01': 0, '10': 0, '11': 499}\n"
     ]
    }
   ],
   "source": [
    "hist = dict()\n",
    "\n",
    "# Sonuçlar için bir sözlük. 2 kubit = 4 farklı olası durum.\n",
    "hist[\"00\"] = 0\n",
    "hist[\"01\"] = 0\n",
    "hist[\"10\"] = 0\n",
    "hist[\"11\"] = 0\n",
    "\n",
    "# Repetition kadar.\n",
    "for i in range(len(results.measurements[\"Kubit_0\"])):\n",
    "    k1 = results.measurements[\"Kubit_0\"][i]\n",
    "    k2 = results.measurements[\"Kubit_1\"][i]\n",
    "    \n",
    "    if k1 == k2 == 0:\n",
    "        hist[\"00\"] += 1\n",
    "    elif k1 == k2 == 1:\n",
    "        hist[\"11\"] += 1\n",
    "    elif k1 != k2 and k1 == 0:\n",
    "        hist[\"01\"] +=1\n",
    "    else:\n",
    "        hist[\"10\"] += 1\n",
    "        \n",
    "print(hist)"
   ]
  },
  {
   "cell_type": "code",
   "execution_count": 13,
   "id": "dff330a6",
   "metadata": {},
   "outputs": [
    {
     "name": "stdout",
     "output_type": "stream",
     "text": [
      "Counter({0: 517, 3: 507})\n"
     ]
    }
   ],
   "source": [
    "# Tekrardan devreyi kuralım.\n",
    "my_circuit = cirq.Circuit()\n",
    "my_circuit.append(cirq.H(qubits[0]))\n",
    "my_circuit.append(cirq.CNOT(qubits[0], qubits[1]))\n",
    "\n",
    "my_circuit.append(cirq.measure(qubits[0], qubits[1], key='R'))\n",
    "\n",
    "sim = cirq.Simulator()\n",
    "results_2 = sim.run(my_circuit, repetitions=1024)\n",
    "print(results_2.histogram(key='R'))"
   ]
  },
  {
   "cell_type": "code",
   "execution_count": 14,
   "id": "46ef2a28",
   "metadata": {},
   "outputs": [],
   "source": [
    "from matplotlib import pyplot"
   ]
  },
  {
   "cell_type": "code",
   "execution_count": 15,
   "id": "4e28a796",
   "metadata": {},
   "outputs": [
    {
     "name": "stdout",
     "output_type": "stream",
     "text": [
      "{'00': 0.5126953125, '01': 0.0, '10': 0.0, '11': 0.4873046875}\n"
     ]
    },
    {
     "data": {
      "text/plain": [
       "Text(0, 0.5, 'Olasılık (%)')"
      ]
     },
     "execution_count": 15,
     "metadata": {},
     "output_type": "execute_result"
    },
    {
     "data": {
      "image/png": "[encoded data removed]",
      "text/plain": [
       "<Figure size 432x288 with 1 Axes>"
      ]
     },
     "metadata": {
      "needs_background": "light"
     },
     "output_type": "display_data"
    }
   ],
   "source": [
    "for key in hist:\n",
    "    hist[key] /= 1024\n",
    "\n",
    "print(hist)\n",
    "pyplot.bar(hist.keys(), hist.values())\n",
    "pyplot.ylim(0, 1.0)\n",
    "pyplot.title(\"Bell Çifti Örneği\")\n",
    "pyplot.xlabel(\"Ölçüm sonucu\")\n",
    "pyplot.ylabel(\"Olasılık (%)\")"
   ]
  },
  {
   "cell_type": "code",
   "execution_count": null,
   "id": "3f2e5661",
   "metadata": {},
   "outputs": [],
   "source": []
  }
 ],
 "metadata": {
  "kernelspec": {
   "display_name": "python399",
   "language": "python",
   "name": "python399"
  },
  "language_info": {
   "codemirror_mode": {
    "name": "ipython",
    "version": 3
   },
   "file_extension": ".py",
   "mimetype": "text/x-python",
   "name": "python",
   "nbconvert_exporter": "python",
   "pygments_lexer": "ipython3",
   "version": "3.9.9"
  }
 },
 "nbformat": 4,
 "nbformat_minor": 5
}

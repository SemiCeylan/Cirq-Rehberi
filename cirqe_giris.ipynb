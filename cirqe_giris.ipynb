{
 "cells": [
  {
   "cell_type": "markdown",
   "id": "2c22fbf7",
   "metadata": {},
   "source": [
    "## Cirq'e Giriş"
   ]
  },
  {
   "cell_type": "code",
   "execution_count": 1,
   "id": "ad4af124",
   "metadata": {},
   "outputs": [],
   "source": [
    "import cirq\n",
    "import numpy as np\n",
    "from matplotlib import pyplot"
   ]
  },
  {
   "cell_type": "code",
   "execution_count": 2,
   "id": "1997c04a",
   "metadata": {},
   "outputs": [],
   "source": [
    "my_circuit = cirq.Circuit()\n",
    "\n",
    "# 2 boyutta 3 adet qubit oluşturur.\n",
    "qubits = cirq.LineQubit.range(3)\n",
    "tp_qubit = qubits[0]\n",
    "alice_qubit = qubits[1]\n",
    "bob_qubit = qubits[2]"
   ]
  },
  {
   "cell_type": "code",
   "execution_count": 3,
   "id": "d66a4319",
   "metadata": {},
   "outputs": [
    {
     "name": "stdout",
     "output_type": "stream",
     "text": [
      "1: ───H───@───\n",
      "          │\n",
      "2: ───────X───\n"
     ]
    }
   ],
   "source": [
    "my_circuit.append(cirq.H(alice_qubit))\n",
    "my_circuit.append(cirq.CNOT(alice_qubit, bob_qubit))\n",
    "print(my_circuit)"
   ]
  },
  {
   "cell_type": "code",
   "execution_count": 4,
   "id": "43fa9ad0",
   "metadata": {},
   "outputs": [
    {
     "name": "stdout",
     "output_type": "stream",
     "text": [
      "0: ───────────@───H───\n",
      "              │\n",
      "1: ───H───@───X───────\n",
      "          │\n",
      "2: ───────X───────────\n"
     ]
    }
   ],
   "source": [
    "my_circuit.append(cirq.CNOT(tp_qubit, alice_qubit))\n",
    "my_circuit.append(cirq.H(tp_qubit))\n",
    "print(my_circuit)"
   ]
  },
  {
   "cell_type": "code",
   "execution_count": 5,
   "id": "02398b23",
   "metadata": {},
   "outputs": [
    {
     "name": "stdout",
     "output_type": "stream",
     "text": [
      "0: ───────────@───H───M('Al')───\n",
      "              │       │\n",
      "1: ───H───@───X───────M─────────\n",
      "          │\n",
      "2: ───────X─────────────────────\n"
     ]
    }
   ],
   "source": [
    "my_circuit.append(cirq.measure(tp_qubit, alice_qubit, key=\"Al\"))\n",
    "print(my_circuit)"
   ]
  },
  {
   "cell_type": "code",
   "execution_count": 6,
   "id": "118d81bd",
   "metadata": {},
   "outputs": [
    {
     "name": "stdout",
     "output_type": "stream",
     "text": [
      "0: ───────────@───H───M('Al')───@──────────────────\n",
      "              │       │         │\n",
      "1: ───H───@───X───────M─────────┼───@──────────────\n",
      "          │                     │   │\n",
      "2: ───────X─────────────────────@───X───M('Bob')───\n"
     ]
    }
   ],
   "source": [
    "my_circuit.append(cirq.CZ(tp_qubit, bob_qubit))\n",
    "my_circuit.append(cirq.CX(alice_qubit, bob_qubit))\n",
    "my_circuit.append(cirq.measure(bob_qubit, key=\"Bob\"))\n",
    "print(my_circuit)"
   ]
  },
  {
   "cell_type": "code",
   "execution_count": 7,
   "id": "644a4dcb",
   "metadata": {},
   "outputs": [],
   "source": [
    "sim = cirq.Simulator()\n",
    "results = sim.run(my_circuit, repetitions=1024)"
   ]
  },
  {
   "cell_type": "code",
   "execution_count": 10,
   "id": "93382e57",
   "metadata": {},
   "outputs": [
    {
     "data": {
      "text/plain": [
       "Text(0, 0.5, 'Adet')"
      ]
     },
     "execution_count": 10,
     "metadata": {},
     "output_type": "execute_result"
    },
    {
     "data": {
      "image/png": "[encoded data removed]",
      "text/plain": [
       "<Figure size 432x288 with 1 Axes>"
      ]
     },
     "metadata": {
      "needs_background": "light"
     },
     "output_type": "display_data"
    }
   ],
   "source": [
    "pyplot.hist(results.measurements[\"Bob\"])\n",
    "pyplot.xticks([0, 1])\n",
    "pyplot.xlim(-0.2, 1.2)\n",
    "pyplot.title(\"Işınlama algoritması\")\n",
    "pyplot.xlabel(\"Ölçüm sonucu\")\n",
    "pyplot.ylabel(\"Adet\")"
   ]
  },
  {
   "cell_type": "code",
   "execution_count": 12,
   "id": "a4212555",
   "metadata": {},
   "outputs": [
    {
     "name": "stdout",
     "output_type": "stream",
     "text": [
      "0: ───X───────@───H───M('Al')───@──────────────────\n",
      "              │       │         │\n",
      "1: ───H───@───X───────M─────────┼───@──────────────\n",
      "          │                     │   │\n",
      "2: ───────X─────────────────────@───X───M('Bob')───\n"
     ]
    },
    {
     "data": {
      "text/plain": [
       "Text(0, 0.5, 'Adet')"
      ]
     },
     "execution_count": 12,
     "metadata": {},
     "output_type": "execute_result"
    },
    {
     "data": {
      "image/png": "[encoded data removed]",
      "text/plain": [
       "<Figure size 432x288 with 1 Axes>"
      ]
     },
     "metadata": {
      "needs_background": "light"
     },
     "output_type": "display_data"
    }
   ],
   "source": [
    "my_circuit = cirq.Circuit()\n",
    "qubits = cirq.LineQubit.range(3)\n",
    "tp_qubit = qubits[0]\n",
    "alice_qubit = qubits[1]\n",
    "bob_qubit = qubits[2]\n",
    "\n",
    "my_circuit.append(cirq.X(tp_qubit))\n",
    "my_circuit.append(cirq.H(alice_qubit))\n",
    "my_circuit.append(cirq.CNOT(alice_qubit, bob_qubit))\n",
    "my_circuit.append(cirq.CNOT(tp_qubit, alice_qubit))\n",
    "my_circuit.append(cirq.H(tp_qubit))\n",
    "my_circuit.append(cirq.measure(tp_qubit, alice_qubit, key=\"Al\"))\n",
    "my_circuit.append(cirq.CZ(tp_qubit, bob_qubit))\n",
    "my_circuit.append(cirq.CX(alice_qubit, bob_qubit))\n",
    "my_circuit.append(cirq.measure(bob_qubit, key=\"Bob\"))\n",
    "print(my_circuit)\n",
    "sim = cirq.Simulator()\n",
    "results = sim.run(my_circuit, repetitions=1024)\n",
    "pyplot.hist(results.measurements[\"Bob\"])\n",
    "pyplot.xticks([0, 1])\n",
    "pyplot.xlim(-0.2, 1.2)\n",
    "pyplot.title(\"Işınlama algoritması\")\n",
    "pyplot.xlabel(\"Ölçüm sonucu\")\n",
    "pyplot.ylabel(\"Adet\")"
   ]
  },
  {
   "cell_type": "code",
   "execution_count": 13,
   "id": "d8113ffe",
   "metadata": {},
   "outputs": [
    {
     "name": "stdout",
     "output_type": "stream",
     "text": [
      "0: ───H───────@───H───M('Al')───@──────────────────\n",
      "              │       │         │\n",
      "1: ───H───@───X───────M─────────┼───@──────────────\n",
      "          │                     │   │\n",
      "2: ───────X─────────────────────@───X───M('Bob')───\n"
     ]
    },
    {
     "data": {
      "text/plain": [
       "Text(0, 0.5, 'Adet')"
      ]
     },
     "execution_count": 13,
     "metadata": {},
     "output_type": "execute_result"
    },
    {
     "data": {
      "image/png": "[encoded data removed]",
      "text/plain": [
       "<Figure size 432x288 with 1 Axes>"
      ]
     },
     "metadata": {
      "needs_background": "light"
     },
     "output_type": "display_data"
    }
   ],
   "source": [
    "my_circuit = cirq.Circuit()\n",
    "qubits = cirq.LineQubit.range(3)\n",
    "tp_qubit = qubits[0]\n",
    "alice_qubit = qubits[1]\n",
    "bob_qubit = qubits[2]\n",
    "\n",
    "my_circuit.append(cirq.H(tp_qubit))\n",
    "my_circuit.append(cirq.H(alice_qubit))\n",
    "my_circuit.append(cirq.CNOT(alice_qubit, bob_qubit))\n",
    "my_circuit.append(cirq.CNOT(tp_qubit, alice_qubit))\n",
    "my_circuit.append(cirq.H(tp_qubit))\n",
    "my_circuit.append(cirq.measure(tp_qubit, alice_qubit, key=\"Al\"))\n",
    "my_circuit.append(cirq.CZ(tp_qubit, bob_qubit))\n",
    "my_circuit.append(cirq.CX(alice_qubit, bob_qubit))\n",
    "my_circuit.append(cirq.measure(bob_qubit, key=\"Bob\"))\n",
    "print(my_circuit)\n",
    "sim = cirq.Simulator()\n",
    "results = sim.run(my_circuit, repetitions=1024)\n",
    "pyplot.hist(results.measurements[\"Bob\"])\n",
    "pyplot.xticks([0, 1])\n",
    "pyplot.xlim(-0.2, 1.2)\n",
    "pyplot.title(\"Işınlama algoritması\")\n",
    "pyplot.xlabel(\"Ölçüm sonucu\")\n",
    "pyplot.ylabel(\"Adet\")"
   ]
  },
  {
   "cell_type": "code",
   "execution_count": null,
   "id": "35737bfd",
   "metadata": {},
   "outputs": [],
   "source": []
  }
 ],
 "metadata": {
  "kernelspec": {
   "display_name": "python399",
   "language": "python",
   "name": "python399"
  },
  "language_info": {
   "codemirror_mode": {
    "name": "ipython",
    "version": 3
   },
   "file_extension": ".py",
   "mimetype": "text/x-python",
   "name": "python",
   "nbconvert_exporter": "python",
   "pygments_lexer": "ipython3",
   "version": "3.9.9"
  }
 },
 "nbformat": 4,
 "nbformat_minor": 5
}

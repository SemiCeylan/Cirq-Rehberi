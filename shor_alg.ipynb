{
 "cells": [
  {
   "cell_type": "markdown",
   "id": "004dbd2a",
   "metadata": {},
   "source": [
    "## Shor Algoritması"
   ]
  },
  {
   "cell_type": "code",
   "execution_count": 1,
   "id": "df399b2d",
   "metadata": {},
   "outputs": [],
   "source": [
    "import cirq\n",
    "import numpy as np\n",
    "from matplotlib import pyplot\n",
    "from math import gcd\n",
    "from numpy.random import randint\n",
    "import pandas as pd\n",
    "from fractions import Fraction"
   ]
  },
  {
   "cell_type": "code",
   "execution_count": 2,
   "id": "09c26d8b",
   "metadata": {},
   "outputs": [],
   "source": [
    "n_count = 8  # sayma kubitler\n",
    "a = 7\n",
    "N = 15\n",
    "# 8 sayma + 4 kayit\n",
    "\n",
    "all_qubits = cirq.LineQubit.range(n_count + 4)\n",
    "count_qubits = all_qubits[:8]\n",
    "register_qubits = all_qubits[8:]\n",
    "\n",
    "shor_circuit = cirq.Circuit()"
   ]
  },
  {
   "cell_type": "code",
   "execution_count": 3,
   "id": "0e66e0c2",
   "metadata": {},
   "outputs": [
    {
     "name": "stdout",
     "output_type": "stream",
     "text": [
      "0: ────H───\n",
      "\n",
      "1: ────H───\n",
      "\n",
      "2: ────H───\n",
      "\n",
      "3: ────H───\n",
      "\n",
      "4: ────H───\n",
      "\n",
      "5: ────H───\n",
      "\n",
      "6: ────H───\n",
      "\n",
      "7: ────H───\n",
      "\n",
      "11: ───X───\n"
     ]
    }
   ],
   "source": [
    "# Saymalara Hadamard uygula\n",
    "shor_circuit.append(cirq.H.on_each(*count_qubits))\n",
    "\n",
    "# Kayitci 4 kubiti bin(15) olarak ayarla.\n",
    "shor_circuit.append(cirq.X(register_qubits[3]))\n",
    "print(shor_circuit)"
   ]
  },
  {
   "cell_type": "code",
   "execution_count": 4,
   "id": "c2f86817",
   "metadata": {},
   "outputs": [],
   "source": [
    "# Kayıtçılar için Amod15 devresi \n",
    "def c_amod15(qubs, a, power):\n",
    "    if a not in [2,7,8,11,13]:\n",
    "        raise ValueError(\"'a' must be 2,7,8,11 or 13\")\n",
    "    \n",
    "    U = cirq.Circuit()\n",
    "\n",
    "    for iteration in range(power):\n",
    "        if a in [2,13]:\n",
    "            U.append(cirq.SWAP(qubs[0], qubs[1]))\n",
    "            U.append(cirq.SWAP(qubs[1], qubs[2]))\n",
    "            U.append(cirq.SWAP(qubs[2], qubs[3]))\n",
    "        if a in [7,8]:\n",
    "            U.append(cirq.SWAP(qubs[2], qubs[3]))\n",
    "            U.append(cirq.SWAP(qubs[1], qubs[2]))\n",
    "            U.append(cirq.SWAP(qubs[0], qubs[1]))\n",
    "        if a == 11:\n",
    "            U.append(cirq.SWAP(qubs[1], qubs[3]))\n",
    "            U.append(cirq.SWAP(qubs[0], qubs[2]))\n",
    "        if a in [7,11,13]:\n",
    "            for q in range(4):\n",
    "                U.append(cirq.X(qubs[q]))\n",
    "    return U"
   ]
  },
  {
   "cell_type": "code",
   "execution_count": 5,
   "id": "8caded34",
   "metadata": {},
   "outputs": [],
   "source": [
    "class amod15_Gate(cirq.Gate):\n",
    "    def __init__(self, a, power):\n",
    "        super(amod15_Gate, self)\n",
    "        self.a = a\n",
    "        self.power = power\n",
    "\n",
    "    def _num_qubits_(self):\n",
    "        return 4\n",
    "\n",
    "    def _decompose_(self, qubits):\n",
    "        yield c_amod15(qubits, self.a, self.power)\n",
    "\n",
    "    def _circuit_diagram_info_(self, args):\n",
    "        return [\"AmodN\"] * self.num_qubits()"
   ]
  },
  {
   "cell_type": "code",
   "execution_count": 6,
   "id": "6bfa43d1",
   "metadata": {},
   "outputs": [
    {
     "name": "stdout",
     "output_type": "stream",
     "text": [
      "0: ────H───@───────────────────────────────────────────────────────────────\n",
      "           │\n",
      "1: ────H───┼───────@───────────────────────────────────────────────────────\n",
      "           │       │\n",
      "2: ────H───┼───────┼───────@───────────────────────────────────────────────\n",
      "           │       │       │\n",
      "3: ────H───┼───────┼───────┼───────@───────────────────────────────────────\n",
      "           │       │       │       │\n",
      "4: ────H───┼───────┼───────┼───────┼───────@───────────────────────────────\n",
      "           │       │       │       │       │\n",
      "5: ────H───┼───────┼───────┼───────┼───────┼───────@───────────────────────\n",
      "           │       │       │       │       │       │\n",
      "6: ────H───┼───────┼───────┼───────┼───────┼───────┼───────@───────────────\n",
      "           │       │       │       │       │       │       │\n",
      "7: ────H───┼───────┼───────┼───────┼───────┼───────┼───────┼───────@───────\n",
      "           │       │       │       │       │       │       │       │\n",
      "8: ────────AmodN───AmodN───AmodN───AmodN───AmodN───AmodN───AmodN───AmodN───\n",
      "           │       │       │       │       │       │       │       │\n",
      "9: ────────AmodN───AmodN───AmodN───AmodN───AmodN───AmodN───AmodN───AmodN───\n",
      "           │       │       │       │       │       │       │       │\n",
      "10: ───────AmodN───AmodN───AmodN───AmodN───AmodN───AmodN───AmodN───AmodN───\n",
      "           │       │       │       │       │       │       │       │\n",
      "11: ───X───AmodN───AmodN───AmodN───AmodN───AmodN───AmodN───AmodN───AmodN───\n"
     ]
    }
   ],
   "source": [
    "# Kontrollü-U kapılarını uygula.\n",
    "for q in range(len(count_qubits)):\n",
    "    shor_circuit.append(amod15_Gate(a, 2**q).controlled().on(all_qubits[q], *register_qubits))\n",
    "print(shor_circuit)"
   ]
  },
  {
   "cell_type": "code",
   "execution_count": 7,
   "id": "2c17dc35",
   "metadata": {},
   "outputs": [
    {
     "name": "stdout",
     "output_type": "stream",
     "text": [
      "0: ────H───@───────────────────────────────────────────────────────────────qft[norev]^-1───\n",
      "           │                                                               │\n",
      "1: ────H───┼───────@───────────────────────────────────────────────────────#2──────────────\n",
      "           │       │                                                       │\n",
      "2: ────H───┼───────┼───────@───────────────────────────────────────────────#3──────────────\n",
      "           │       │       │                                               │\n",
      "3: ────H───┼───────┼───────┼───────@───────────────────────────────────────#4──────────────\n",
      "           │       │       │       │                                       │\n",
      "4: ────H───┼───────┼───────┼───────┼───────@───────────────────────────────#5──────────────\n",
      "           │       │       │       │       │                               │\n",
      "5: ────H───┼───────┼───────┼───────┼───────┼───────@───────────────────────#6──────────────\n",
      "           │       │       │       │       │       │                       │\n",
      "6: ────H───┼───────┼───────┼───────┼───────┼───────┼───────@───────────────#7──────────────\n",
      "           │       │       │       │       │       │       │               │\n",
      "7: ────H───┼───────┼───────┼───────┼───────┼───────┼───────┼───────@───────#8──────────────\n",
      "           │       │       │       │       │       │       │       │\n",
      "8: ────────AmodN───AmodN───AmodN───AmodN───AmodN───AmodN───AmodN───AmodN───────────────────\n",
      "           │       │       │       │       │       │       │       │\n",
      "9: ────────AmodN───AmodN───AmodN───AmodN───AmodN───AmodN───AmodN───AmodN───────────────────\n",
      "           │       │       │       │       │       │       │       │\n",
      "10: ───────AmodN───AmodN───AmodN───AmodN───AmodN───AmodN───AmodN───AmodN───────────────────\n",
      "           │       │       │       │       │       │       │       │\n",
      "11: ───X───AmodN───AmodN───AmodN───AmodN───AmodN───AmodN───AmodN───AmodN───────────────────\n"
     ]
    }
   ],
   "source": [
    "iqft_operation = cirq.qft(*count_qubits, inverse=True, without_reverse=True)\n",
    "shor_circuit.append(iqft_operation)\n",
    "print(shor_circuit)"
   ]
  },
  {
   "cell_type": "code",
   "execution_count": 8,
   "id": "7baabecb",
   "metadata": {},
   "outputs": [
    {
     "name": "stdout",
     "output_type": "stream",
     "text": [
      "0: ────H───@───────────────────────────────────────────────────────────────qft[norev]^-1───M('C')───\n",
      "           │                                                               │               │\n",
      "1: ────H───┼───────@───────────────────────────────────────────────────────#2──────────────M────────\n",
      "           │       │                                                       │               │\n",
      "2: ────H───┼───────┼───────@───────────────────────────────────────────────#3──────────────M────────\n",
      "           │       │       │                                               │               │\n",
      "3: ────H───┼───────┼───────┼───────@───────────────────────────────────────#4──────────────M────────\n",
      "           │       │       │       │                                       │               │\n",
      "4: ────H───┼───────┼───────┼───────┼───────@───────────────────────────────#5──────────────M────────\n",
      "           │       │       │       │       │                               │               │\n",
      "5: ────H───┼───────┼───────┼───────┼───────┼───────@───────────────────────#6──────────────M────────\n",
      "           │       │       │       │       │       │                       │               │\n",
      "6: ────H───┼───────┼───────┼───────┼───────┼───────┼───────@───────────────#7──────────────M────────\n",
      "           │       │       │       │       │       │       │               │               │\n",
      "7: ────H───┼───────┼───────┼───────┼───────┼───────┼───────┼───────@───────#8──────────────M────────\n",
      "           │       │       │       │       │       │       │       │\n",
      "8: ────────AmodN───AmodN───AmodN───AmodN───AmodN───AmodN───AmodN───AmodN────────────────────────────\n",
      "           │       │       │       │       │       │       │       │\n",
      "9: ────────AmodN───AmodN───AmodN───AmodN───AmodN───AmodN───AmodN───AmodN────────────────────────────\n",
      "           │       │       │       │       │       │       │       │\n",
      "10: ───────AmodN───AmodN───AmodN───AmodN───AmodN───AmodN───AmodN───AmodN────────────────────────────\n",
      "           │       │       │       │       │       │       │       │\n",
      "11: ───X───AmodN───AmodN───AmodN───AmodN───AmodN───AmodN───AmodN───AmodN────────────────────────────\n"
     ]
    }
   ],
   "source": [
    "shor_circuit.append(cirq.measure(*count_qubits, key=\"C\"))\n",
    "print(shor_circuit)"
   ]
  },
  {
   "cell_type": "code",
   "execution_count": 10,
   "id": "d4be0691",
   "metadata": {},
   "outputs": [
    {
     "data": {
      "text/plain": [
       "Text(0, 0.5, 'Adet')"
      ]
     },
     "execution_count": 10,
     "metadata": {},
     "output_type": "execute_result"
    },
    {
     "data": {
      "image/png": "[encoded data removed]",
      "text/plain": [
       "<Figure size 432x288 with 1 Axes>"
      ]
     },
     "metadata": {
      "needs_background": "light"
     },
     "output_type": "display_data"
    }
   ],
   "source": [
    "sim = cirq.Simulator()\n",
    "results = sim.run(shor_circuit, repetitions=1024)\n",
    "hist = dict()\n",
    "for val in results.measurements[\"C\"]:\n",
    "    new_str = \"\"\n",
    "    for s in val:\n",
    "        new_str += str(s)\n",
    "    try:\n",
    "        hist[new_str] += 1\n",
    "    except KeyError:\n",
    "        hist[new_str] = 1\n",
    "        \n",
    "pyplot.bar(hist.keys(), hist.values())\n",
    "pyplot.title(\"Shor Ölçüm sonuçları\")\n",
    "pyplot.xlabel(\"Durumlar\")\n",
    "pyplot.ylabel(\"Adet\")"
   ]
  },
  {
   "cell_type": "code",
   "execution_count": 13,
   "id": "7ee1271b",
   "metadata": {},
   "outputs": [
    {
     "name": "stdout",
     "output_type": "stream",
     "text": [
      "          Kayıtçı Değerleri             Faz\n",
      "0  01000000(bin) =  64(dec)   64/256 = 0.25\n",
      "1  11000000(bin) = 192(dec)  192/256 = 0.75\n",
      "2  00000000(bin) =   0(dec)    0/256 = 0.00\n",
      "3  10000000(bin) = 128(dec)  128/256 = 0.50\n"
     ]
    }
   ],
   "source": [
    "rows, measured_phases = [], []\n",
    "for output in hist:\n",
    "    decimal = int(output, 2)  # İkilik string -> ondalık sayı\n",
    "    phase = decimal/(2**n_count)  # Alakalı eşdeğeri bul\n",
    "    measured_phases.append(phase)\n",
    "    rows.append([f\"{output}(bin) = {decimal:>3}(dec)\", \n",
    "               f\"{decimal}/{2**n_count} = {phase:.2f}\"])\n",
    "headers=[\"Kayıtçı Değerleri\", \"Faz\"]\n",
    "df = pd.DataFrame(rows, columns=headers)\n",
    "print(df)"
   ]
  },
  {
   "cell_type": "code",
   "execution_count": 15,
   "id": "8b8763ef",
   "metadata": {},
   "outputs": [
    {
     "name": "stdout",
     "output_type": "stream",
     "text": [
      "    Faz Kalan  Tahmin: r\n",
      "0  0.25   1/4          4\n",
      "1  0.75   3/4          4\n",
      "2  0.00   0/1          1\n",
      "3  0.50   1/2          2\n"
     ]
    }
   ],
   "source": [
    "rows = []\n",
    "for phase in measured_phases:\n",
    "    frac = Fraction(phase).limit_denominator(15)\n",
    "    rows.append([phase, f\"{frac.numerator}/{frac.denominator}\", frac.denominator])\n",
    "\n",
    "headers=[\"Faz\", \"Kalan\", \"Tahmin: r\"]\n",
    "df = pd.DataFrame(rows, columns=headers)\n",
    "print(df)"
   ]
  },
  {
   "cell_type": "code",
   "execution_count": 17,
   "id": "af75ad36",
   "metadata": {},
   "outputs": [
    {
     "name": "stdout",
     "output_type": "stream",
     "text": [
      "[3, 5]\n"
     ]
    }
   ],
   "source": [
    "# En çok rastlanan priyot 4.\n",
    "r = 4\n",
    "guesses = [gcd(a**(r//2)-1, N), gcd(a**(r//2)+1, N)]\n",
    "print(guesses)"
   ]
  },
  {
   "cell_type": "code",
   "execution_count": null,
   "id": "1ebfea55",
   "metadata": {},
   "outputs": [],
   "source": []
  }
 ],
 "metadata": {
  "kernelspec": {
   "display_name": "python399",
   "language": "python",
   "name": "python399"
  },
  "language_info": {
   "codemirror_mode": {
    "name": "ipython",
    "version": 3
   },
   "file_extension": ".py",
   "mimetype": "text/x-python",
   "name": "python",
   "nbconvert_exporter": "python",
   "pygments_lexer": "ipython3",
   "version": "3.9.9"
  }
 },
 "nbformat": 4,
 "nbformat_minor": 5
}

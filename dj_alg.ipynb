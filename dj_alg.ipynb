{
 "cells": [
  {
   "cell_type": "markdown",
   "id": "fa53e843",
   "metadata": {},
   "source": [
    "## Deutsch-Jozsa Algoritması"
   ]
  },
  {
   "cell_type": "code",
   "execution_count": 1,
   "id": "45e95ed9",
   "metadata": {},
   "outputs": [],
   "source": [
    "import cirq\n",
    "import numpy as np\n",
    "from matplotlib import pyplot"
   ]
  },
  {
   "cell_type": "code",
   "execution_count": 2,
   "id": "dd87f611",
   "metadata": {},
   "outputs": [
    {
     "name": "stdout",
     "output_type": "stream",
     "text": [
      "0: ───H───────\n",
      "\n",
      "1: ───H───────\n",
      "\n",
      "2: ───H───────\n",
      "\n",
      "3: ───H───────\n",
      "\n",
      "4: ───X───H───\n"
     ]
    }
   ],
   "source": [
    "n = 4\n",
    "qubits = cirq.LineQubit.range(n + 1)\n",
    "ancila = qubits[-1]\n",
    "dj_circuit = cirq.Circuit()\n",
    "\n",
    "# Ancila kubitini |1> durumuna getir.\n",
    "dj_circuit.append(cirq.X(ancila))\n",
    "\n",
    "# Tüm kubitler süperposizyon durumuna getilir.\n",
    "dj_circuit.append(cirq.H.on_each(*qubits))\n",
    "\n",
    "print(dj_circuit)"
   ]
  },
  {
   "cell_type": "code",
   "execution_count": 3,
   "id": "96410554",
   "metadata": {},
   "outputs": [],
   "source": [
    "def dj_oracle(case, n):\n",
    "    # Bu devre n+1 kubite sahip: girdi kubit boyutu,\n",
    "    # ve bir de cikti kubit\n",
    "    oracle_qc = cirq.Circuit()\n",
    "    qubits_2 = cirq.LineQubit.range(n+1)\n",
    "\n",
    "    # Dengeli oracle isteniyor ise:\n",
    "    if case == \"balanced\":\n",
    "        b = np.random.randint(1,2**n)\n",
    "        # Ikili stringi formatlayalim.\n",
    "        b_str = format(b, '0'+str(n)+'b')\n",
    "\n",
    "        # Sonra, ilk X kapilarini koyalim. \n",
    "        # Ikili stringteki her rakam bir\n",
    "        # kubite denk geldigi icin, \n",
    "        # string 1 ise X kapisi gerekir.\n",
    "        for qubit in range(len(b_str)):\n",
    "            if b_str[qubit] == '1':\n",
    "                oracle_qc.append(cirq.X(qubits_2[qubit]))\n",
    "\n",
    "        # Cikti qubiti hedef olacak sekilde,\n",
    "        # tum kubitler ile CNOT uygulanir.\n",
    "        for qubit in range(n):\n",
    "            oracle_qc.append(cirq.CX(qubits_2[qubit], qubits_2[n]))\n",
    "\n",
    "        # Sonra, son X kapilarini koyalim.\n",
    "        for qubit in range(len(b_str)):\n",
    "            if b_str[qubit] == '1':\n",
    "                 oracle_qc.append(cirq.X(qubits_2[qubit]))\n",
    "\n",
    "    # Sabit oracle isteniyor ise:\n",
    "    if case == \"constant\":\n",
    "    # Ilk olarak hangi sabit cikti \n",
    "    # isteniyor rastgele secelim.\n",
    "        output = np.random.randint(2)\n",
    "        \n",
    "        # Rasgele 1 gelirse, son kubite X uygulayalim.\n",
    "        if output == 1:\n",
    "            oracle_qc.append(cirq.X(qubits_2[qubit]))\n",
    "\n",
    "    return oracle_qc"
   ]
  },
  {
   "cell_type": "code",
   "execution_count": 4,
   "id": "d2f5a0bc",
   "metadata": {},
   "outputs": [
    {
     "name": "stdout",
     "output_type": "stream",
     "text": [
      "              ┌──┐\n",
      "0: ───H─────────@────────────────\n",
      "                │\n",
      "1: ───H────────X┼────@───X───────\n",
      "                │    │\n",
      "2: ───H─────────┼────┼───@───────\n",
      "                │    │   │\n",
      "3: ───H─────────┼────┼───┼───@───\n",
      "                │    │   │   │\n",
      "4: ───X───H─────X────X───X───X───\n",
      "              └──┘\n"
     ]
    }
   ],
   "source": [
    "dj_circuit.append(dj_oracle(\"balanced\", n),  range(n + 1))\n",
    "print(dj_circuit)"
   ]
  },
  {
   "cell_type": "code",
   "execution_count": 5,
   "id": "8ab3dc86",
   "metadata": {},
   "outputs": [
    {
     "name": "stdout",
     "output_type": "stream",
     "text": [
      "              ┌──┐\n",
      "0: ───H─────────@────H───────────────M('M')───\n",
      "                │                    │\n",
      "1: ───H────────X┼────@───X───H───────M────────\n",
      "                │    │               │\n",
      "2: ───H─────────┼────┼───@───H───────M────────\n",
      "                │    │   │           │\n",
      "3: ───H─────────┼────┼───┼───@───H───M────────\n",
      "                │    │   │   │\n",
      "4: ───X───H─────X────X───X───X────────────────\n",
      "              └──┘\n"
     ]
    }
   ],
   "source": [
    "qubits_to_hm = qubits[:-1]\n",
    "dj_circuit.append(cirq.H.on_each(qubits_to_hm))\n",
    "dj_circuit.append(cirq.measure(*qubits_to_hm, key=\"M\"))\n",
    "print(dj_circuit)"
   ]
  },
  {
   "cell_type": "code",
   "execution_count": 6,
   "id": "6c1c5b8a",
   "metadata": {},
   "outputs": [],
   "source": [
    "# Simülasyon başlatılır.\n",
    "sim = cirq.Simulator()\n",
    "results = sim.run(dj_circuit, repetitions=1024)"
   ]
  },
  {
   "cell_type": "code",
   "execution_count": 7,
   "id": "4089e467",
   "metadata": {},
   "outputs": [
    {
     "data": {
      "text/plain": [
       "Text(0, 0.5, 'Adet')"
      ]
     },
     "execution_count": 7,
     "metadata": {},
     "output_type": "execute_result"
    },
    {
     "data": {
      "image/png": "[encoded data removed]",
      "text/plain": [
       "<Figure size 432x288 with 1 Axes>"
      ]
     },
     "metadata": {
      "needs_background": "light"
     },
     "output_type": "display_data"
    }
   ],
   "source": [
    "hist = dict()\n",
    "for val in results.measurements[\"M\"]:\n",
    "    new_str = \"\"\n",
    "    for s in val:\n",
    "        new_str += str(s)\n",
    "    try:\n",
    "        hist[new_str] += 1\n",
    "    except KeyError:\n",
    "        hist[new_str] = 1\n",
    "        \n",
    "pyplot.bar(hist.keys(), hist.values())\n",
    "pyplot.title(\"Ters QFT Ölçüm Sonuçları\")\n",
    "pyplot.xlabel(\"Durumlar\")\n",
    "pyplot.ylabel(\"Adet\")"
   ]
  },
  {
   "cell_type": "code",
   "execution_count": null,
   "id": "bd64d521",
   "metadata": {},
   "outputs": [],
   "source": []
  },
  {
   "cell_type": "code",
   "execution_count": null,
   "id": "443b8471",
   "metadata": {},
   "outputs": [],
   "source": []
  }
 ],
 "metadata": {
  "kernelspec": {
   "display_name": "python399",
   "language": "python",
   "name": "python399"
  },
  "language_info": {
   "codemirror_mode": {
    "name": "ipython",
    "version": 3
   },
   "file_extension": ".py",
   "mimetype": "text/x-python",
   "name": "python",
   "nbconvert_exporter": "python",
   "pygments_lexer": "ipython3",
   "version": "3.9.9"
  }
 },
 "nbformat": 4,
 "nbformat_minor": 5
}

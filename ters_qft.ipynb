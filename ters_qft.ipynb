{
 "cells": [
  {
   "cell_type": "markdown",
   "id": "1d28a2b5",
   "metadata": {},
   "source": [
    "## Ters Kuantum Fourier Dönüşümü"
   ]
  },
  {
   "cell_type": "code",
   "execution_count": 1,
   "id": "45d49737",
   "metadata": {},
   "outputs": [],
   "source": [
    "import cirq\n",
    "import numpy as np\n",
    "from matplotlib import pyplot"
   ]
  },
  {
   "cell_type": "code",
   "execution_count": 2,
   "id": "f2daaf42",
   "metadata": {},
   "outputs": [],
   "source": [
    "# Bir Ters QFT Devresi oluşturur.\n",
    "def make_qft_inverse(qubits):\n",
    "    qreg = list(qubits)[::-1]\n",
    "    while len(qreg) > 0:\n",
    "        q_head = qreg.pop(0)\n",
    "        yield cirq.H(q_head)\n",
    "        for i, qubit in enumerate(qreg):\n",
    "            yield (cirq.CZ ** (-1 / 2 ** (i + 1)))(qubit, q_head)"
   ]
  },
  {
   "cell_type": "code",
   "execution_count": 3,
   "id": "95c4a5a4",
   "metadata": {},
   "outputs": [
    {
     "name": "stdout",
     "output_type": "stream",
     "text": [
      "                   ┌────────┐   ┌──────────────┐   ┌────────┐\n",
      "0: ──────────────────────────────@──────────────────@───────────@────────H───M('M')───\n",
      "                                 │                  │           │            │\n",
      "1: ─────────────────@────────────┼───────@──────────┼──────H────@^-0.5───────M────────\n",
      "                    │            │       │          │                        │\n",
      "2: ───────@─────────┼──────H─────┼───────@^-0.5─────@^-0.25──────────────────M────────\n",
      "          │         │            │                                           │\n",
      "3: ───H───@^-0.5────@^-0.25──────@^(-1/8)────────────────────────────────────M────────\n",
      "                   └────────┘   └──────────────┘   └────────┘\n"
     ]
    }
   ],
   "source": [
    "qubits = cirq.LineQubit.range(4)\n",
    "tqft = cirq.Circuit(make_qft_inverse(qubits))\n",
    "tqft.append(cirq.measure(*qubits, key=\"M\"))\n",
    "print(tqft)"
   ]
  },
  {
   "cell_type": "code",
   "execution_count": 4,
   "id": "619b4ec1",
   "metadata": {},
   "outputs": [
    {
     "name": "stdout",
     "output_type": "stream",
     "text": [
      "0: ───qft[norev]^-1───\n",
      "      │\n",
      "1: ───#2──────────────\n",
      "      │\n",
      "2: ───#3──────────────\n",
      "      │\n",
      "3: ───#4──────────────\n"
     ]
    }
   ],
   "source": [
    "iqft_operation = cirq.qft(*qubits, inverse=True, without_reverse=True)\n",
    "iqft_cirq = cirq.Circuit(iqft_operation)\n",
    "print(iqft_cirq)\n"
   ]
  },
  {
   "cell_type": "markdown",
   "id": "d1e107e8",
   "metadata": {},
   "source": [
    "## Kauntum Fourier - Ters Kuantum Fourier Örneği"
   ]
  },
  {
   "cell_type": "code",
   "execution_count": 5,
   "id": "d9383c00",
   "metadata": {},
   "outputs": [
    {
     "name": "stdout",
     "output_type": "stream",
     "text": [
      "0: ───X───qft[norev]───\n",
      "          │\n",
      "1: ───────#2───────────\n",
      "          │\n",
      "2: ───X───#3───────────\n",
      "          │\n",
      "3: ───────#4───────────\n"
     ]
    }
   ],
   "source": [
    "qubits = cirq.LineQubit.range(4)\n",
    "\n",
    "# 5 = bin(101). Bu nedenle 0. ve 2. kubitlere X uygulanir.\n",
    "qft_cirq = cirq.Circuit()\n",
    "qft_cirq.append(cirq.X(qubits[0]))\n",
    "qft_cirq.append(cirq.X(qubits[2]))\n",
    "qft_operation = cirq.qft(*qubits, without_reverse=True)\n",
    "qft_cirq.append(qft_operation)\n",
    "\n",
    "print(qft_cirq)"
   ]
  },
  {
   "cell_type": "code",
   "execution_count": 6,
   "id": "1fb70322",
   "metadata": {
    "scrolled": true
   },
   "outputs": [
    {
     "name": "stdout",
     "output_type": "stream",
     "text": [
      "0: ───X───qft[norev]───qft[norev]^-1───M('M')───\n",
      "          │            │               │\n",
      "1: ───────#2───────────#2──────────────M────────\n",
      "          │            │               │\n",
      "2: ───X───#3───────────#3──────────────M────────\n",
      "          │            │               │\n",
      "3: ───────#4───────────#4──────────────M────────\n"
     ]
    }
   ],
   "source": [
    "iqft_operation = cirq.qft(*qubits, inverse=True, without_reverse=True)\n",
    "iqft_cirq = cirq.Circuit(iqft_operation)\n",
    "qft_cirq.append(iqft_cirq)\n",
    "qft_cirq.append(cirq.measure(*qubits, key=\"M\"))\n",
    "print(qft_cirq)"
   ]
  },
  {
   "cell_type": "code",
   "execution_count": 7,
   "id": "a832c903",
   "metadata": {},
   "outputs": [],
   "source": [
    "sim = cirq.Simulator()\n",
    "results = sim.run(qft_cirq, repetitions=1024)"
   ]
  },
  {
   "cell_type": "code",
   "execution_count": 9,
   "id": "db6a617e",
   "metadata": {},
   "outputs": [
    {
     "data": {
      "text/plain": [
       "Text(0, 0.5, 'Adet')"
      ]
     },
     "execution_count": 9,
     "metadata": {},
     "output_type": "execute_result"
    },
    {
     "data": {
      "image/png": "[encoded data removed]",
      "text/plain": [
       "<Figure size 432x288 with 1 Axes>"
      ]
     },
     "metadata": {
      "needs_background": "light"
     },
     "output_type": "display_data"
    }
   ],
   "source": [
    "hist = dict()\n",
    "for val in results.measurements[\"M\"]:\n",
    "    new_str = \"\"\n",
    "    for s in val:\n",
    "        new_str += str(s)\n",
    "    try:\n",
    "        hist[new_str] += 1\n",
    "    except KeyError:\n",
    "        hist[new_str] = 1\n",
    "        \n",
    "pyplot.bar(hist.keys(), hist.values())\n",
    "pyplot.title(\"Ters QFT Ölçüm Sonuçları\")\n",
    "pyplot.xlabel(\"Durumlar\")\n",
    "pyplot.ylabel(\"Adet\")"
   ]
  },
  {
   "cell_type": "code",
   "execution_count": null,
   "id": "f5b9545d",
   "metadata": {},
   "outputs": [],
   "source": []
  }
 ],
 "metadata": {
  "kernelspec": {
   "display_name": "python399",
   "language": "python",
   "name": "python399"
  },
  "language_info": {
   "codemirror_mode": {
    "name": "ipython",
    "version": 3
   },
   "file_extension": ".py",
   "mimetype": "text/x-python",
   "name": "python",
   "nbconvert_exporter": "python",
   "pygments_lexer": "ipython3",
   "version": "3.9.9"
  }
 },
 "nbformat": 4,
 "nbformat_minor": 5
}
